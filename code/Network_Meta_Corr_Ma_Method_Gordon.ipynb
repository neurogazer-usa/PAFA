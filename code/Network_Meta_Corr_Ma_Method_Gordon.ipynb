{
 "cells": [
  {
   "cell_type": "code",
   "execution_count": 1,
   "metadata": {},
   "outputs": [],
   "source": [
    "import nibabel as nib\n",
    "import numpy as np\n",
    "import glob\n",
    "import pandas as pd\n",
    "import subprocess as sp\n",
    "import matplotlib.pyplot as plt\n",
    "from scipy import stats\n",
    "import seaborn as sns"
   ]
  },
  {
   "cell_type": "code",
   "execution_count": 2,
   "metadata": {},
   "outputs": [
    {
     "name": "stderr",
     "output_type": "stream",
     "text": [
      "pixdim[1,2,3] should be non-zero; setting 0 dims to 1\n"
     ]
    },
    {
     "name": "stdout",
     "output_type": "stream",
     "text": [
      "<nibabel.cifti2.cifti2.Cifti2Image object at 0x1a2185c510>\n",
      "<nibabel.cifti2.cifti2.Cifti2Header object at 0x10dd5fd10>\n",
      "(1, 91282)\n",
      "91282\n",
      "59412\n"
     ]
    },
    {
     "data": {
      "text/plain": [
       "array([[ 48., 264., 302., ...,   0.,   0.,   0.]])"
      ]
     },
     "execution_count": 2,
     "metadata": {},
     "output_type": "execute_result"
    }
   ],
   "source": [
    "# ROI-level template, Gordon\n",
    "template = nib.load('/Users/neurogazer/Pipeline/test/Regional_Inhomogeneity_Analysis/Ma_Paper_Replication/test_data/Paper_Surface_Files/Gordon333_FreesurferSubcortical.32k_fs_LR.dlabel.nii')\n",
    "print(template)\n",
    "print(template.header)\n",
    "print(template.shape)\n",
    "\n",
    "template_labels = template.header.get_axis(0).label\n",
    "len(template_labels[0])\n",
    "\n",
    "voxel_all_index = template.get_fdata()\n",
    "print(len(voxel_all_index[0]))\n",
    "voxel_index = np.array([list(voxel_all_index[0][0:59412])])\n",
    "print(len(voxel_index[0]))\n",
    "voxel_index"
   ]
  },
  {
   "cell_type": "code",
   "execution_count": 3,
   "metadata": {},
   "outputs": [
    {
     "data": {
      "text/plain": [
       "{0: ('???', (1.0, 1.0, 1.0, 0.0)),\n",
       " 1: ('L_None_1', (1.0, 1.0, 1.0, 1.0)),\n",
       " 2: ('L_None_2', (1.0, 1.0, 1.0, 1.0)),\n",
       " 3: ('L_None_3', (1.0, 1.0, 1.0, 1.0)),\n",
       " 4: ('L_None_4', (1.0, 1.0, 1.0, 1.0)),\n",
       " 5: ('L_None_5', (1.0, 1.0, 1.0, 1.0)),\n",
       " 6: ('L_None_6', (1.0, 1.0, 1.0, 1.0)),\n",
       " 7: ('L_None_7', (1.0, 1.0, 1.0, 1.0)),\n",
       " 8: ('L_None_8', (1.0, 1.0, 1.0, 1.0)),\n",
       " 9: ('L_None_9', (1.0, 1.0, 1.0, 1.0)),\n",
       " 10: ('L_None_10', (1.0, 1.0, 1.0, 1.0)),\n",
       " 11: ('L_None_11', (1.0, 1.0, 1.0, 1.0)),\n",
       " 12: ('L_None_12', (1.0, 1.0, 1.0, 1.0)),\n",
       " 13: ('L_None_13', (1.0, 1.0, 1.0, 1.0)),\n",
       " 14: ('L_None_14', (1.0, 1.0, 1.0, 1.0)),\n",
       " 15: ('L_None_15', (1.0, 1.0, 1.0, 1.0)),\n",
       " 16: ('L_None_16', (1.0, 1.0, 1.0, 1.0)),\n",
       " 17: ('L_None_17', (1.0, 1.0, 1.0, 1.0)),\n",
       " 18: ('L_None_18', (1.0, 1.0, 1.0, 1.0)),\n",
       " 19: ('L_None_19', (1.0, 1.0, 1.0, 1.0)),\n",
       " 20: ('L_None_20', (1.0, 1.0, 1.0, 1.0)),\n",
       " 21: ('L_None_21', (1.0, 1.0, 1.0, 1.0)),\n",
       " 22: ('R_None_22', (1.0, 1.0, 1.0, 1.0)),\n",
       " 23: ('R_None_23', (1.0, 1.0, 1.0, 1.0)),\n",
       " 24: ('R_None_24', (1.0, 1.0, 1.0, 1.0)),\n",
       " 25: ('R_None_25', (1.0, 1.0, 1.0, 1.0)),\n",
       " 26: ('R_None_26', (1.0, 1.0, 1.0, 1.0)),\n",
       " 27: ('R_None_27', (1.0, 1.0, 1.0, 1.0)),\n",
       " 28: ('R_None_28', (1.0, 1.0, 1.0, 1.0)),\n",
       " 29: ('R_None_29', (1.0, 1.0, 1.0, 1.0)),\n",
       " 30: ('R_None_30', (1.0, 1.0, 1.0, 1.0)),\n",
       " 31: ('R_None_31', (1.0, 1.0, 1.0, 1.0)),\n",
       " 32: ('R_None_32', (1.0, 1.0, 1.0, 1.0)),\n",
       " 33: ('R_None_33', (1.0, 1.0, 1.0, 1.0)),\n",
       " 34: ('R_None_34', (1.0, 1.0, 1.0, 1.0)),\n",
       " 35: ('R_None_35', (1.0, 1.0, 1.0, 1.0)),\n",
       " 36: ('R_None_36', (1.0, 1.0, 1.0, 1.0)),\n",
       " 37: ('R_None_37', (1.0, 1.0, 1.0, 1.0)),\n",
       " 38: ('R_None_38', (1.0, 1.0, 1.0, 1.0)),\n",
       " 39: ('R_None_39', (1.0, 1.0, 1.0, 1.0)),\n",
       " 40: ('R_None_40', (1.0, 1.0, 1.0, 1.0)),\n",
       " 41: ('R_None_41', (1.0, 1.0, 1.0, 1.0)),\n",
       " 42: ('R_None_42', (1.0, 1.0, 1.0, 1.0)),\n",
       " 43: ('R_None_43', (1.0, 1.0, 1.0, 1.0)),\n",
       " 44: ('R_None_44', (1.0, 1.0, 1.0, 1.0)),\n",
       " 45: ('R_None_45', (1.0, 1.0, 1.0, 1.0)),\n",
       " 46: ('R_None_46', (1.0, 1.0, 1.0, 1.0)),\n",
       " 47: ('R_None_47', (1.0, 1.0, 1.0, 1.0)),\n",
       " 48: ('L_Default_1', (1.0, 0.0, 0.0, 1.0)),\n",
       " 49: ('L_Default_2', (1.0, 0.0, 0.0, 1.0)),\n",
       " 50: ('L_Default_3', (1.0, 0.0, 0.0, 1.0)),\n",
       " 51: ('L_Default_4', (1.0, 0.0, 0.0, 1.0)),\n",
       " 52: ('L_Default_5', (1.0, 0.0, 0.0, 1.0)),\n",
       " 53: ('L_Default_6', (1.0, 0.0, 0.0, 1.0)),\n",
       " 54: ('L_Default_7', (1.0, 0.0, 0.0, 1.0)),\n",
       " 55: ('L_Default_8', (1.0, 0.0, 0.0, 1.0)),\n",
       " 56: ('L_Default_9', (1.0, 0.0, 0.0, 1.0)),\n",
       " 57: ('L_Default_10', (1.0, 0.0, 0.0, 1.0)),\n",
       " 58: ('L_Default_11', (1.0, 0.0, 0.0, 1.0)),\n",
       " 59: ('L_Default_12', (1.0, 0.0, 0.0, 1.0)),\n",
       " 60: ('L_Default_13', (1.0, 0.0, 0.0, 1.0)),\n",
       " 61: ('L_Default_14', (1.0, 0.0, 0.0, 1.0)),\n",
       " 62: ('L_Default_15', (1.0, 0.0, 0.0, 1.0)),\n",
       " 63: ('L_Default_16', (1.0, 0.0, 0.0, 1.0)),\n",
       " 64: ('L_Default_17', (1.0, 0.0, 0.0, 1.0)),\n",
       " 65: ('L_Default_18', (1.0, 0.0, 0.0, 1.0)),\n",
       " 66: ('L_Default_19', (1.0, 0.0, 0.0, 1.0)),\n",
       " 67: ('L_Default_20', (1.0, 0.0, 0.0, 1.0)),\n",
       " 68: ('R_Default_21', (1.0, 0.0, 0.0, 1.0)),\n",
       " 69: ('R_Default_22', (1.0, 0.0, 0.0, 1.0)),\n",
       " 70: ('R_Default_23', (1.0, 0.0, 0.0, 1.0)),\n",
       " 71: ('R_Default_24', (1.0, 0.0, 0.0, 1.0)),\n",
       " 72: ('R_Default_25', (1.0, 0.0, 0.0, 1.0)),\n",
       " 73: ('R_Default_26', (1.0, 0.0, 0.0, 1.0)),\n",
       " 74: ('R_Default_27', (1.0, 0.0, 0.0, 1.0)),\n",
       " 75: ('R_Default_28', (1.0, 0.0, 0.0, 1.0)),\n",
       " 76: ('R_Default_29', (1.0, 0.0, 0.0, 1.0)),\n",
       " 77: ('R_Default_30', (1.0, 0.0, 0.0, 1.0)),\n",
       " 78: ('R_Default_31', (1.0, 0.0, 0.0, 1.0)),\n",
       " 79: ('R_Default_32', (1.0, 0.0, 0.0, 1.0)),\n",
       " 80: ('R_Default_33', (1.0, 0.0, 0.0, 1.0)),\n",
       " 81: ('R_Default_34', (1.0, 0.0, 0.0, 1.0)),\n",
       " 82: ('R_Default_35', (1.0, 0.0, 0.0, 1.0)),\n",
       " 83: ('R_Default_36', (1.0, 0.0, 0.0, 1.0)),\n",
       " 84: ('R_Default_37', (1.0, 0.0, 0.0, 1.0)),\n",
       " 85: ('R_Default_38', (1.0, 0.0, 0.0, 1.0)),\n",
       " 86: ('R_Default_39', (1.0, 0.0, 0.0, 1.0)),\n",
       " 87: ('R_Default_40', (1.0, 0.0, 0.0, 1.0)),\n",
       " 88: ('R_Default_41', (1.0, 0.0, 0.0, 1.0)),\n",
       " 89: ('L_ParietoOccip_1', (1.0, 1.0, 0.8, 1.0)),\n",
       " 90: ('L_ParietoOccip_2', (1.0, 1.0, 0.8, 1.0)),\n",
       " 91: ('L_ParietoOccip_3', (1.0, 1.0, 0.8, 1.0)),\n",
       " 92: ('L_ParietoOccip_4', (1.0, 1.0, 0.8, 1.0)),\n",
       " 93: ('R_ParietoOccip_5', (1.0, 1.0, 0.8, 1.0)),\n",
       " 94: ('R_ParietoOccip_6', (1.0, 1.0, 0.8, 1.0)),\n",
       " 95: ('R_ParietoOccip_7', (1.0, 1.0, 0.8, 1.0)),\n",
       " 96: ('R_ParietoOccip_8', (1.0, 1.0, 0.8, 1.0)),\n",
       " 97: ('L_FrontoParietal_1', (1.0, 1.0, 0.0, 1.0)),\n",
       " 98: ('L_FrontoParietal_2', (1.0, 1.0, 0.0, 1.0)),\n",
       " 99: ('L_FrontoParietal_3', (1.0, 1.0, 0.0, 1.0)),\n",
       " 100: ('L_FrontoParietal_4', (1.0, 1.0, 0.0, 1.0)),\n",
       " 101: ('L_FrontoParietal_5', (1.0, 1.0, 0.0, 1.0)),\n",
       " 102: ('L_FrontoParietal_6', (1.0, 1.0, 0.0, 1.0)),\n",
       " 103: ('L_FrontoParietal_7', (1.0, 1.0, 0.0, 1.0)),\n",
       " 104: ('L_FrontoParietal_8', (1.0, 1.0, 0.0, 1.0)),\n",
       " 105: ('L_FrontoParietal_9', (1.0, 1.0, 0.0, 1.0)),\n",
       " 106: ('R_FrontoParietal_10', (1.0, 1.0, 0.0, 1.0)),\n",
       " 107: ('R_FrontoParietal_11', (1.0, 1.0, 0.0, 1.0)),\n",
       " 108: ('R_FrontoParietal_12', (1.0, 1.0, 0.0, 1.0)),\n",
       " 109: ('R_FrontoParietal_13', (1.0, 1.0, 0.0, 1.0)),\n",
       " 110: ('R_FrontoParietal_14', (1.0, 1.0, 0.0, 1.0)),\n",
       " 111: ('R_FrontoParietal_15', (1.0, 1.0, 0.0, 1.0)),\n",
       " 112: ('R_FrontoParietal_16', (1.0, 1.0, 0.0, 1.0)),\n",
       " 113: ('R_FrontoParietal_17', (1.0, 1.0, 0.0, 1.0)),\n",
       " 114: ('R_FrontoParietal_18', (1.0, 1.0, 0.0, 1.0)),\n",
       " 115: ('R_FrontoParietal_19', (1.0, 1.0, 0.0, 1.0)),\n",
       " 116: ('R_FrontoParietal_20', (1.0, 1.0, 0.0, 1.0)),\n",
       " 117: ('R_FrontoParietal_21', (1.0, 1.0, 0.0, 1.0)),\n",
       " 118: ('R_FrontoParietal_22', (1.0, 1.0, 0.0, 1.0)),\n",
       " 119: ('R_FrontoParietal_23', (1.0, 1.0, 0.0, 1.0)),\n",
       " 120: ('R_FrontoParietal_24', (1.0, 1.0, 0.0, 1.0)),\n",
       " 121: ('L_Salience_1', (0.0, 0.0, 0.0, 1.0)),\n",
       " 122: ('L_Salience_2', (0.0, 0.0, 0.0, 1.0)),\n",
       " 123: ('R_Salience_3', (0.0, 0.0, 0.0, 1.0)),\n",
       " 124: ('R_Salience_4', (0.0, 0.0, 0.0, 1.0)),\n",
       " 125: ('L_CinguloOperc_1', (0.501961, 0.0, 0.501961, 1.0)),\n",
       " 126: ('L_CinguloOperc_2', (0.501961, 0.0, 0.501961, 1.0)),\n",
       " 127: ('L_CinguloOperc_3', (0.501961, 0.0, 0.501961, 1.0)),\n",
       " 128: ('L_CinguloOperc_4', (0.501961, 0.0, 0.501961, 1.0)),\n",
       " 129: ('L_CinguloOperc_5', (0.501961, 0.0, 0.501961, 1.0)),\n",
       " 130: ('L_CinguloOperc_6', (0.501961, 0.0, 0.501961, 1.0)),\n",
       " 131: ('L_CinguloOperc_7', (0.501961, 0.0, 0.501961, 1.0)),\n",
       " 132: ('L_CinguloOperc_8', (0.501961, 0.0, 0.501961, 1.0)),\n",
       " 133: ('L_CinguloOperc_9', (0.501961, 0.0, 0.501961, 1.0)),\n",
       " 134: ('L_CinguloOperc_10', (0.501961, 0.0, 0.501961, 1.0)),\n",
       " 135: ('L_CinguloOperc_11', (0.501961, 0.0, 0.501961, 1.0)),\n",
       " 136: ('L_CinguloOperc_12', (0.501961, 0.0, 0.501961, 1.0)),\n",
       " 137: ('L_CinguloOperc_13', (0.501961, 0.0, 0.501961, 1.0)),\n",
       " 138: ('L_CinguloOperc_14', (0.501961, 0.0, 0.501961, 1.0)),\n",
       " 139: ('L_CinguloOperc_15', (0.501961, 0.0, 0.501961, 1.0)),\n",
       " 140: ('L_CinguloOperc_16', (0.501961, 0.0, 0.501961, 1.0)),\n",
       " 141: ('L_CinguloOperc_17', (0.501961, 0.0, 0.501961, 1.0)),\n",
       " 142: ('L_CinguloOperc_18', (0.501961, 0.0, 0.501961, 1.0)),\n",
       " 143: ('L_CinguloOperc_19', (0.501961, 0.0, 0.501961, 1.0)),\n",
       " 144: ('L_CinguloOperc_20', (0.501961, 0.0, 0.501961, 1.0)),\n",
       " 145: ('R_CinguloOperc_21', (0.501961, 0.0, 0.501961, 1.0)),\n",
       " 146: ('R_CinguloOperc_22', (0.501961, 0.0, 0.501961, 1.0)),\n",
       " 147: ('R_CinguloOperc_23', (0.501961, 0.0, 0.501961, 1.0)),\n",
       " 148: ('R_CinguloOperc_24', (0.501961, 0.0, 0.501961, 1.0)),\n",
       " 149: ('R_CinguloOperc_25', (0.501961, 0.0, 0.501961, 1.0)),\n",
       " 150: ('R_CinguloOperc_26', (0.501961, 0.0, 0.501961, 1.0)),\n",
       " 151: ('R_CinguloOperc_27', (0.501961, 0.0, 0.501961, 1.0)),\n",
       " 152: ('R_CinguloOperc_28', (0.501961, 0.0, 0.501961, 1.0)),\n",
       " 153: ('R_CinguloOperc_29', (0.501961, 0.0, 0.501961, 1.0)),\n",
       " 154: ('R_CinguloOperc_30', (0.501961, 0.0, 0.501961, 1.0)),\n",
       " 155: ('R_CinguloOperc_31', (0.501961, 0.0, 0.501961, 1.0)),\n",
       " 156: ('R_CinguloOperc_32', (0.501961, 0.0, 0.501961, 1.0)),\n",
       " 157: ('R_CinguloOperc_33', (0.501961, 0.0, 0.501961, 1.0)),\n",
       " 158: ('R_CinguloOperc_34', (0.501961, 0.0, 0.501961, 1.0)),\n",
       " 159: ('R_CinguloOperc_35', (0.501961, 0.0, 0.501961, 1.0)),\n",
       " 160: ('R_CinguloOperc_36', (0.501961, 0.0, 0.501961, 1.0)),\n",
       " 161: ('R_CinguloOperc_37', (0.501961, 0.0, 0.501961, 1.0)),\n",
       " 162: ('R_CinguloOperc_38', (0.501961, 0.0, 0.501961, 1.0)),\n",
       " 163: ('R_CinguloOperc_39', (0.501961, 0.0, 0.501961, 1.0)),\n",
       " 164: ('R_CinguloOperc_40', (0.501961, 0.0, 0.501961, 1.0)),\n",
       " 165: ('L_MedialParietal_1', (0.607843, 0.294118, 1.0, 1.0)),\n",
       " 166: ('L_MedialParietal_2', (0.607843, 0.294118, 1.0, 1.0)),\n",
       " 167: ('L_MedialParietal_3', (0.607843, 0.294118, 1.0, 1.0)),\n",
       " 168: ('R_MedialParietal_4', (0.607843, 0.294118, 1.0, 1.0)),\n",
       " 169: ('R_MedialParietal_5', (0.607843, 0.294118, 1.0, 1.0)),\n",
       " 170: ('L_DorsalAttn_1', (0.0, 1.0, 0.0, 1.0)),\n",
       " 171: ('L_DorsalAttn_2', (0.0, 1.0, 0.0, 1.0)),\n",
       " 172: ('L_DorsalAttn_3', (0.0, 1.0, 0.0, 1.0)),\n",
       " 173: ('L_DorsalAttn_4', (0.0, 1.0, 0.0, 1.0)),\n",
       " 174: ('L_DorsalAttn_5', (0.0, 1.0, 0.0, 1.0)),\n",
       " 175: ('L_DorsalAttn_6', (0.0, 1.0, 0.0, 1.0)),\n",
       " 176: ('L_DorsalAttn_7', (0.0, 1.0, 0.0, 1.0)),\n",
       " 177: ('L_DorsalAttn_8', (0.0, 1.0, 0.0, 1.0)),\n",
       " 178: ('L_DorsalAttn_9', (0.0, 1.0, 0.0, 1.0)),\n",
       " 179: ('L_DorsalAttn_10', (0.0, 1.0, 0.0, 1.0)),\n",
       " 180: ('L_DorsalAttn_11', (0.0, 1.0, 0.0, 1.0)),\n",
       " 181: ('L_DorsalAttn_12', (0.0, 1.0, 0.0, 1.0)),\n",
       " 182: ('L_DorsalAttn_13', (0.0, 1.0, 0.0, 1.0)),\n",
       " 183: ('L_DorsalAttn_14', (0.0, 1.0, 0.0, 1.0)),\n",
       " 184: ('L_DorsalAttn_15', (0.0, 1.0, 0.0, 1.0)),\n",
       " 185: ('L_DorsalAttn_16', (0.0, 1.0, 0.0, 1.0)),\n",
       " 186: ('L_DorsalAttn_17', (0.0, 1.0, 0.0, 1.0)),\n",
       " 187: ('L_DorsalAttn_18', (0.0, 1.0, 0.0, 1.0)),\n",
       " 188: ('L_DorsalAttn_19', (0.0, 1.0, 0.0, 1.0)),\n",
       " 189: ('R_DorsalAttn_20', (0.0, 1.0, 0.0, 1.0)),\n",
       " 190: ('R_DorsalAttn_21', (0.0, 1.0, 0.0, 1.0)),\n",
       " 191: ('R_DorsalAttn_22', (0.0, 1.0, 0.0, 1.0)),\n",
       " 192: ('R_DorsalAttn_23', (0.0, 1.0, 0.0, 1.0)),\n",
       " 193: ('R_DorsalAttn_24', (0.0, 1.0, 0.0, 1.0)),\n",
       " 194: ('R_DorsalAttn_25', (0.0, 1.0, 0.0, 1.0)),\n",
       " 195: ('R_DorsalAttn_26', (0.0, 1.0, 0.0, 1.0)),\n",
       " 196: ('R_DorsalAttn_27', (0.0, 1.0, 0.0, 1.0)),\n",
       " 197: ('R_DorsalAttn_28', (0.0, 1.0, 0.0, 1.0)),\n",
       " 198: ('R_DorsalAttn_29', (0.0, 1.0, 0.0, 1.0)),\n",
       " 199: ('R_DorsalAttn_30', (0.0, 1.0, 0.0, 1.0)),\n",
       " 200: ('R_DorsalAttn_31', (0.0, 1.0, 0.0, 1.0)),\n",
       " 201: ('R_DorsalAttn_32', (0.0, 1.0, 0.0, 1.0)),\n",
       " 202: ('L_VentralAttn_1', (0.0, 0.501961, 0.501961, 1.0)),\n",
       " 203: ('L_VentralAttn_2', (0.0, 0.501961, 0.501961, 1.0)),\n",
       " 204: ('L_VentralAttn_3', (0.0, 0.501961, 0.501961, 1.0)),\n",
       " 205: ('L_VentralAttn_4', (0.0, 0.501961, 0.501961, 1.0)),\n",
       " 206: ('L_VentralAttn_5', (0.0, 0.501961, 0.501961, 1.0)),\n",
       " 207: ('L_VentralAttn_6', (0.0, 0.501961, 0.501961, 1.0)),\n",
       " 208: ('L_VentralAttn_7', (0.0, 0.501961, 0.501961, 1.0)),\n",
       " 209: ('L_VentralAttn_8', (0.0, 0.501961, 0.501961, 1.0)),\n",
       " 210: ('L_VentralAttn_9', (0.0, 0.501961, 0.501961, 1.0)),\n",
       " 211: ('L_VentralAttn_10', (0.0, 0.501961, 0.501961, 1.0)),\n",
       " 212: ('L_VentralAttn_11', (0.0, 0.501961, 0.501961, 1.0)),\n",
       " 213: ('R_VentralAttn_12', (0.0, 0.501961, 0.501961, 1.0)),\n",
       " 214: ('R_VentralAttn_13', (0.0, 0.501961, 0.501961, 1.0)),\n",
       " 215: ('R_VentralAttn_14', (0.0, 0.501961, 0.501961, 1.0)),\n",
       " 216: ('R_VentralAttn_15', (0.0, 0.501961, 0.501961, 1.0)),\n",
       " 217: ('R_VentralAttn_16', (0.0, 0.501961, 0.501961, 1.0)),\n",
       " 218: ('R_VentralAttn_17', (0.0, 0.501961, 0.501961, 1.0)),\n",
       " 219: ('R_VentralAttn_18', (0.0, 0.501961, 0.501961, 1.0)),\n",
       " 220: ('R_VentralAttn_19', (0.0, 0.501961, 0.501961, 1.0)),\n",
       " 221: ('R_VentralAttn_20', (0.0, 0.501961, 0.501961, 1.0)),\n",
       " 222: ('R_VentralAttn_21', (0.0, 0.501961, 0.501961, 1.0)),\n",
       " 223: ('R_VentralAttn_22', (0.0, 0.501961, 0.501961, 1.0)),\n",
       " 224: ('R_VentralAttn_23', (0.0, 0.501961, 0.501961, 1.0)),\n",
       " 225: ('L_Visual_1', (0.0, 0.0, 0.745098, 1.0)),\n",
       " 226: ('L_Visual_2', (0.0, 0.0, 0.745098, 1.0)),\n",
       " 227: ('L_Visual_3', (0.0, 0.0, 0.745098, 1.0)),\n",
       " 228: ('L_Visual_4', (0.0, 0.0, 0.745098, 1.0)),\n",
       " 229: ('L_Visual_5', (0.0, 0.0, 0.745098, 1.0)),\n",
       " 230: ('L_Visual_6', (0.0, 0.0, 0.745098, 1.0)),\n",
       " 231: ('L_Visual_7', (0.0, 0.0, 0.745098, 1.0)),\n",
       " 232: ('L_Visual_8', (0.0, 0.0, 0.745098, 1.0)),\n",
       " 233: ('L_Visual_9', (0.0, 0.0, 0.745098, 1.0)),\n",
       " 234: ('L_Visual_10', (0.0, 0.0, 0.745098, 1.0)),\n",
       " 235: ('L_Visual_11', (0.0, 0.0, 0.745098, 1.0)),\n",
       " 236: ('L_Visual_12', (0.0, 0.0, 0.745098, 1.0)),\n",
       " 237: ('L_Visual_13', (0.0, 0.0, 0.745098, 1.0)),\n",
       " 238: ('L_Visual_14', (0.0, 0.0, 0.745098, 1.0)),\n",
       " 239: ('L_Visual_15', (0.0, 0.0, 0.745098, 1.0)),\n",
       " 240: ('L_Visual_16', (0.0, 0.0, 0.745098, 1.0)),\n",
       " 241: ('L_Visual_17', (0.0, 0.0, 0.745098, 1.0)),\n",
       " 242: ('L_Visual_18', (0.0, 0.0, 0.745098, 1.0)),\n",
       " 243: ('R_Visual_19', (0.0, 0.0, 0.745098, 1.0)),\n",
       " 244: ('R_Visual_20', (0.0, 0.0, 0.745098, 1.0)),\n",
       " 245: ('R_Visual_21', (0.0, 0.0, 0.745098, 1.0)),\n",
       " 246: ('R_Visual_22', (0.0, 0.0, 0.745098, 1.0)),\n",
       " 247: ('R_Visual_23', (0.0, 0.0, 0.745098, 1.0)),\n",
       " 248: ('R_Visual_24', (0.0, 0.0, 0.745098, 1.0)),\n",
       " 249: ('R_Visual_25', (0.0, 0.0, 0.745098, 1.0)),\n",
       " 250: ('R_Visual_26', (0.0, 0.0, 0.745098, 1.0)),\n",
       " 251: ('R_Visual_27', (0.0, 0.0, 0.745098, 1.0)),\n",
       " 252: ('R_Visual_28', (0.0, 0.0, 0.745098, 1.0)),\n",
       " 253: ('R_Visual_29', (0.0, 0.0, 0.745098, 1.0)),\n",
       " 254: ('R_Visual_30', (0.0, 0.0, 0.745098, 1.0)),\n",
       " 255: ('R_Visual_31', (0.0, 0.0, 0.745098, 1.0)),\n",
       " 256: ('R_Visual_32', (0.0, 0.0, 0.745098, 1.0)),\n",
       " 257: ('R_Visual_33', (0.0, 0.0, 0.745098, 1.0)),\n",
       " 258: ('R_Visual_34', (0.0, 0.0, 0.745098, 1.0)),\n",
       " 259: ('R_Visual_35', (0.0, 0.0, 0.745098, 1.0)),\n",
       " 260: ('R_Visual_36', (0.0, 0.0, 0.745098, 1.0)),\n",
       " 261: ('R_Visual_37', (0.0, 0.0, 0.745098, 1.0)),\n",
       " 262: ('R_Visual_38', (0.0, 0.0, 0.745098, 1.0)),\n",
       " 263: ('R_Visual_39', (0.0, 0.0, 0.745098, 1.0)),\n",
       " 264: ('L_SMhand_1', (0.0, 1.0, 1.0, 1.0)),\n",
       " 265: ('L_SMhand_2', (0.0, 1.0, 1.0, 1.0)),\n",
       " 266: ('L_SMhand_3', (0.0, 1.0, 1.0, 1.0)),\n",
       " 267: ('L_SMhand_4', (0.0, 1.0, 1.0, 1.0)),\n",
       " 268: ('L_SMhand_5', (0.0, 1.0, 1.0, 1.0)),\n",
       " 269: ('L_SMhand_6', (0.0, 1.0, 1.0, 1.0)),\n",
       " 270: ('L_SMhand_7', (0.0, 1.0, 1.0, 1.0)),\n",
       " 271: ('L_SMhand_8', (0.0, 1.0, 1.0, 1.0)),\n",
       " 272: ('L_SMhand_9', (0.0, 1.0, 1.0, 1.0)),\n",
       " 273: ('L_SMhand_10', (0.0, 1.0, 1.0, 1.0)),\n",
       " 274: ('L_SMhand_11', (0.0, 1.0, 1.0, 1.0)),\n",
       " 275: ('L_SMhand_12', (0.0, 1.0, 1.0, 1.0)),\n",
       " 276: ('L_SMhand_13', (0.0, 1.0, 1.0, 1.0)),\n",
       " 277: ('L_SMhand_14', (0.0, 1.0, 1.0, 1.0)),\n",
       " 278: ('L_SMhand_15', (0.0, 1.0, 1.0, 1.0)),\n",
       " 279: ('L_SMhand_16', (0.0, 1.0, 1.0, 1.0)),\n",
       " 280: ('L_SMhand_17', (0.0, 1.0, 1.0, 1.0)),\n",
       " 281: ('L_SMhand_18', (0.0, 1.0, 1.0, 1.0)),\n",
       " 282: ('R_SMhand_19', (0.0, 1.0, 1.0, 1.0)),\n",
       " 283: ('R_SMhand_20', (0.0, 1.0, 1.0, 1.0)),\n",
       " 284: ('R_SMhand_21', (0.0, 1.0, 1.0, 1.0)),\n",
       " 285: ('R_SMhand_22', (0.0, 1.0, 1.0, 1.0)),\n",
       " 286: ('R_SMhand_23', (0.0, 1.0, 1.0, 1.0)),\n",
       " 287: ('R_SMhand_24', (0.0, 1.0, 1.0, 1.0)),\n",
       " 288: ('R_SMhand_25', (0.0, 1.0, 1.0, 1.0)),\n",
       " 289: ('R_SMhand_26', (0.0, 1.0, 1.0, 1.0)),\n",
       " 290: ('R_SMhand_27', (0.0, 1.0, 1.0, 1.0)),\n",
       " 291: ('R_SMhand_28', (0.0, 1.0, 1.0, 1.0)),\n",
       " 292: ('R_SMhand_29', (0.0, 1.0, 1.0, 1.0)),\n",
       " 293: ('R_SMhand_30', (0.0, 1.0, 1.0, 1.0)),\n",
       " 294: ('R_SMhand_31', (0.0, 1.0, 1.0, 1.0)),\n",
       " 295: ('R_SMhand_32', (0.0, 1.0, 1.0, 1.0)),\n",
       " 296: ('R_SMhand_33', (0.0, 1.0, 1.0, 1.0)),\n",
       " 297: ('R_SMhand_34', (0.0, 1.0, 1.0, 1.0)),\n",
       " 298: ('R_SMhand_35', (0.0, 1.0, 1.0, 1.0)),\n",
       " 299: ('R_SMhand_36', (0.0, 1.0, 1.0, 1.0)),\n",
       " 300: ('R_SMhand_37', (0.0, 1.0, 1.0, 1.0)),\n",
       " 301: ('R_SMhand_38', (0.0, 1.0, 1.0, 1.0)),\n",
       " 302: ('L_SMmouth_1', (1.0, 0.501961, 0.0, 1.0)),\n",
       " 303: ('L_SMmouth_2', (1.0, 0.501961, 0.0, 1.0)),\n",
       " 304: ('L_SMmouth_3', (1.0, 0.501961, 0.0, 1.0)),\n",
       " 305: ('L_SMmouth_4', (1.0, 0.501961, 0.0, 1.0)),\n",
       " 306: ('R_SMmouth_5', (1.0, 0.501961, 0.0, 1.0)),\n",
       " 307: ('R_SMmouth_6', (1.0, 0.501961, 0.0, 1.0)),\n",
       " 308: ('R_SMmouth_7', (1.0, 0.501961, 0.0, 1.0)),\n",
       " 309: ('R_SMmouth_8', (1.0, 0.501961, 0.0, 1.0)),\n",
       " 310: ('L_Auditory_1', (1.0, 0.0, 1.0, 1.0)),\n",
       " 311: ('L_Auditory_2', (1.0, 0.0, 1.0, 1.0)),\n",
       " 312: ('L_Auditory_3', (1.0, 0.0, 1.0, 1.0)),\n",
       " 313: ('L_Auditory_4', (1.0, 0.0, 1.0, 1.0)),\n",
       " 314: ('L_Auditory_5', (1.0, 0.0, 1.0, 1.0)),\n",
       " 315: ('L_Auditory_6', (1.0, 0.0, 1.0, 1.0)),\n",
       " 316: ('L_Auditory_7', (1.0, 0.0, 1.0, 1.0)),\n",
       " 317: ('L_Auditory_8', (1.0, 0.0, 1.0, 1.0)),\n",
       " 318: ('L_Auditory_9', (1.0, 0.0, 1.0, 1.0)),\n",
       " 319: ('L_Auditory_10', (1.0, 0.0, 1.0, 1.0)),\n",
       " 320: ('L_Auditory_11', (1.0, 0.0, 1.0, 1.0)),\n",
       " 321: ('L_Auditory_12', (1.0, 0.0, 1.0, 1.0)),\n",
       " 322: ('R_Auditory_13', (1.0, 0.0, 1.0, 1.0)),\n",
       " 323: ('R_Auditory_14', (1.0, 0.0, 1.0, 1.0)),\n",
       " 324: ('R_Auditory_15', (1.0, 0.0, 1.0, 1.0)),\n",
       " 325: ('R_Auditory_16', (1.0, 0.0, 1.0, 1.0)),\n",
       " 326: ('R_Auditory_17', (1.0, 0.0, 1.0, 1.0)),\n",
       " 327: ('R_Auditory_18', (1.0, 0.0, 1.0, 1.0)),\n",
       " 328: ('R_Auditory_19', (1.0, 0.0, 1.0, 1.0)),\n",
       " 329: ('R_Auditory_20', (1.0, 0.0, 1.0, 1.0)),\n",
       " 330: ('R_Auditory_21', (1.0, 0.0, 1.0, 1.0)),\n",
       " 331: ('R_Auditory_22', (1.0, 0.0, 1.0, 1.0)),\n",
       " 332: ('R_Auditory_23', (1.0, 0.0, 1.0, 1.0)),\n",
       " 333: ('R_Auditory_24', (1.0, 0.0, 1.0, 1.0)),\n",
       " 334: ('L_Amygdala', (0.27451, 0.509804, 0.705882, 1.0)),\n",
       " 335: ('R_Amygdala', (0.27451, 0.509804, 0.705882, 1.0)),\n",
       " 336: ('L_Hippocampus', (0.901961, 0.14902, 0.901961, 1.0)),\n",
       " 337: ('R_Hippocampus', (0.901961, 0.14902, 0.901961, 1.0)),\n",
       " 338: ('L_Accumbens', (0.470588, 0.0705882, 0.52549, 1.0)),\n",
       " 339: ('R_Accumbens', (0.470588, 0.0705882, 0.52549, 1.0)),\n",
       " 340: ('L_Caudate', (0.705882, 1.0, 0.0, 1.0)),\n",
       " 341: ('R_Caudate', (0.705882, 1.0, 0.0, 1.0)),\n",
       " 342: ('L_Pallidum', (0.501961, 1.0, 1.0, 1.0)),\n",
       " 343: ('R_Pallidum', (0.501961, 1.0, 1.0, 1.0)),\n",
       " 344: ('L_Putamen', (0.0, 0.509804, 0.0, 1.0)),\n",
       " 345: ('R_Putamen', (0.0, 0.509804, 0.0, 1.0)),\n",
       " 346: ('L_Thalamus', (1.0, 0.501961, 0.501961, 1.0)),\n",
       " 347: ('R_Thalamus', (1.0, 0.501961, 0.501961, 1.0)),\n",
       " 348: ('BrainStem', (0.501961, 0.501961, 0.0, 1.0)),\n",
       " 349: ('L_VentralDiencephalon', (0.501961, 1.0, 0.501961, 1.0)),\n",
       " 350: ('R_VentralDiencephalon', (0.501961, 1.0, 0.501961, 1.0)),\n",
       " 351: ('L_Cerebellum', (0.164706, 0.8, 0.643137, 1.0)),\n",
       " 352: ('R_Cerebellum', (0.164706, 0.8, 0.643137, 1.0))}"
      ]
     },
     "execution_count": 3,
     "metadata": {},
     "output_type": "execute_result"
    }
   ],
   "source": [
    "template_labels[0]"
   ]
  },
  {
   "cell_type": "code",
   "execution_count": 4,
   "metadata": {
    "scrolled": true
   },
   "outputs": [
    {
     "name": "stdout",
     "output_type": "stream",
     "text": [
      "334\n"
     ]
    },
    {
     "data": {
      "text/plain": [
       "array(['???', 'L_None_1', 'L_None_2', 'L_None_3', 'L_None_4', 'L_None_5',\n",
       "       'L_None_6', 'L_None_7', 'L_None_8', 'L_None_9', 'L_None_10',\n",
       "       'L_None_11', 'L_None_12', 'L_None_13', 'L_None_14', 'L_None_15',\n",
       "       'L_None_16', 'L_None_17', 'L_None_18', 'L_None_19', 'L_None_20',\n",
       "       'L_None_21', 'R_None_22', 'R_None_23', 'R_None_24', 'R_None_25',\n",
       "       'R_None_26', 'R_None_27', 'R_None_28', 'R_None_29', 'R_None_30',\n",
       "       'R_None_31', 'R_None_32', 'R_None_33', 'R_None_34', 'R_None_35',\n",
       "       'R_None_36', 'R_None_37', 'R_None_38', 'R_None_39', 'R_None_40',\n",
       "       'R_None_41', 'R_None_42', 'R_None_43', 'R_None_44', 'R_None_45',\n",
       "       'R_None_46', 'R_None_47', 'L_Default_1', 'L_Default_2',\n",
       "       'L_Default_3', 'L_Default_4', 'L_Default_5', 'L_Default_6',\n",
       "       'L_Default_7', 'L_Default_8', 'L_Default_9', 'L_Default_10',\n",
       "       'L_Default_11', 'L_Default_12', 'L_Default_13', 'L_Default_14',\n",
       "       'L_Default_15', 'L_Default_16', 'L_Default_17', 'L_Default_18',\n",
       "       'L_Default_19', 'L_Default_20', 'R_Default_21', 'R_Default_22',\n",
       "       'R_Default_23', 'R_Default_24', 'R_Default_25', 'R_Default_26',\n",
       "       'R_Default_27', 'R_Default_28', 'R_Default_29', 'R_Default_30',\n",
       "       'R_Default_31', 'R_Default_32', 'R_Default_33', 'R_Default_34',\n",
       "       'R_Default_35', 'R_Default_36', 'R_Default_37', 'R_Default_38',\n",
       "       'R_Default_39', 'R_Default_40', 'R_Default_41', 'L_ParietoOccip_1',\n",
       "       'L_ParietoOccip_2', 'L_ParietoOccip_3', 'L_ParietoOccip_4',\n",
       "       'R_ParietoOccip_5', 'R_ParietoOccip_6', 'R_ParietoOccip_7',\n",
       "       'R_ParietoOccip_8', 'L_FrontoParietal_1', 'L_FrontoParietal_2',\n",
       "       'L_FrontoParietal_3', 'L_FrontoParietal_4', 'L_FrontoParietal_5',\n",
       "       'L_FrontoParietal_6', 'L_FrontoParietal_7', 'L_FrontoParietal_8',\n",
       "       'L_FrontoParietal_9', 'R_FrontoParietal_10', 'R_FrontoParietal_11',\n",
       "       'R_FrontoParietal_12', 'R_FrontoParietal_13',\n",
       "       'R_FrontoParietal_14', 'R_FrontoParietal_15',\n",
       "       'R_FrontoParietal_16', 'R_FrontoParietal_17',\n",
       "       'R_FrontoParietal_18', 'R_FrontoParietal_19',\n",
       "       'R_FrontoParietal_20', 'R_FrontoParietal_21',\n",
       "       'R_FrontoParietal_22', 'R_FrontoParietal_23',\n",
       "       'R_FrontoParietal_24', 'L_Salience_1', 'L_Salience_2',\n",
       "       'R_Salience_3', 'R_Salience_4', 'L_CinguloOperc_1',\n",
       "       'L_CinguloOperc_2', 'L_CinguloOperc_3', 'L_CinguloOperc_4',\n",
       "       'L_CinguloOperc_5', 'L_CinguloOperc_6', 'L_CinguloOperc_7',\n",
       "       'L_CinguloOperc_8', 'L_CinguloOperc_9', 'L_CinguloOperc_10',\n",
       "       'L_CinguloOperc_11', 'L_CinguloOperc_12', 'L_CinguloOperc_13',\n",
       "       'L_CinguloOperc_14', 'L_CinguloOperc_15', 'L_CinguloOperc_16',\n",
       "       'L_CinguloOperc_17', 'L_CinguloOperc_18', 'L_CinguloOperc_19',\n",
       "       'L_CinguloOperc_20', 'R_CinguloOperc_21', 'R_CinguloOperc_22',\n",
       "       'R_CinguloOperc_23', 'R_CinguloOperc_24', 'R_CinguloOperc_25',\n",
       "       'R_CinguloOperc_26', 'R_CinguloOperc_27', 'R_CinguloOperc_28',\n",
       "       'R_CinguloOperc_29', 'R_CinguloOperc_30', 'R_CinguloOperc_31',\n",
       "       'R_CinguloOperc_32', 'R_CinguloOperc_33', 'R_CinguloOperc_34',\n",
       "       'R_CinguloOperc_35', 'R_CinguloOperc_36', 'R_CinguloOperc_37',\n",
       "       'R_CinguloOperc_38', 'R_CinguloOperc_39', 'R_CinguloOperc_40',\n",
       "       'L_MedialParietal_1', 'L_MedialParietal_2', 'L_MedialParietal_3',\n",
       "       'R_MedialParietal_4', 'R_MedialParietal_5', 'L_DorsalAttn_1',\n",
       "       'L_DorsalAttn_2', 'L_DorsalAttn_3', 'L_DorsalAttn_4',\n",
       "       'L_DorsalAttn_5', 'L_DorsalAttn_6', 'L_DorsalAttn_7',\n",
       "       'L_DorsalAttn_8', 'L_DorsalAttn_9', 'L_DorsalAttn_10',\n",
       "       'L_DorsalAttn_11', 'L_DorsalAttn_12', 'L_DorsalAttn_13',\n",
       "       'L_DorsalAttn_14', 'L_DorsalAttn_15', 'L_DorsalAttn_16',\n",
       "       'L_DorsalAttn_17', 'L_DorsalAttn_18', 'L_DorsalAttn_19',\n",
       "       'R_DorsalAttn_20', 'R_DorsalAttn_21', 'R_DorsalAttn_22',\n",
       "       'R_DorsalAttn_23', 'R_DorsalAttn_24', 'R_DorsalAttn_25',\n",
       "       'R_DorsalAttn_26', 'R_DorsalAttn_27', 'R_DorsalAttn_28',\n",
       "       'R_DorsalAttn_29', 'R_DorsalAttn_30', 'R_DorsalAttn_31',\n",
       "       'R_DorsalAttn_32', 'L_VentralAttn_1', 'L_VentralAttn_2',\n",
       "       'L_VentralAttn_3', 'L_VentralAttn_4', 'L_VentralAttn_5',\n",
       "       'L_VentralAttn_6', 'L_VentralAttn_7', 'L_VentralAttn_8',\n",
       "       'L_VentralAttn_9', 'L_VentralAttn_10', 'L_VentralAttn_11',\n",
       "       'R_VentralAttn_12', 'R_VentralAttn_13', 'R_VentralAttn_14',\n",
       "       'R_VentralAttn_15', 'R_VentralAttn_16', 'R_VentralAttn_17',\n",
       "       'R_VentralAttn_18', 'R_VentralAttn_19', 'R_VentralAttn_20',\n",
       "       'R_VentralAttn_21', 'R_VentralAttn_22', 'R_VentralAttn_23',\n",
       "       'L_Visual_1', 'L_Visual_2', 'L_Visual_3', 'L_Visual_4',\n",
       "       'L_Visual_5', 'L_Visual_6', 'L_Visual_7', 'L_Visual_8',\n",
       "       'L_Visual_9', 'L_Visual_10', 'L_Visual_11', 'L_Visual_12',\n",
       "       'L_Visual_13', 'L_Visual_14', 'L_Visual_15', 'L_Visual_16',\n",
       "       'L_Visual_17', 'L_Visual_18', 'R_Visual_19', 'R_Visual_20',\n",
       "       'R_Visual_21', 'R_Visual_22', 'R_Visual_23', 'R_Visual_24',\n",
       "       'R_Visual_25', 'R_Visual_26', 'R_Visual_27', 'R_Visual_28',\n",
       "       'R_Visual_29', 'R_Visual_30', 'R_Visual_31', 'R_Visual_32',\n",
       "       'R_Visual_33', 'R_Visual_34', 'R_Visual_35', 'R_Visual_36',\n",
       "       'R_Visual_37', 'R_Visual_38', 'R_Visual_39', 'L_SMhand_1',\n",
       "       'L_SMhand_2', 'L_SMhand_3', 'L_SMhand_4', 'L_SMhand_5',\n",
       "       'L_SMhand_6', 'L_SMhand_7', 'L_SMhand_8', 'L_SMhand_9',\n",
       "       'L_SMhand_10', 'L_SMhand_11', 'L_SMhand_12', 'L_SMhand_13',\n",
       "       'L_SMhand_14', 'L_SMhand_15', 'L_SMhand_16', 'L_SMhand_17',\n",
       "       'L_SMhand_18', 'R_SMhand_19', 'R_SMhand_20', 'R_SMhand_21',\n",
       "       'R_SMhand_22', 'R_SMhand_23', 'R_SMhand_24', 'R_SMhand_25',\n",
       "       'R_SMhand_26', 'R_SMhand_27', 'R_SMhand_28', 'R_SMhand_29',\n",
       "       'R_SMhand_30', 'R_SMhand_31', 'R_SMhand_32', 'R_SMhand_33',\n",
       "       'R_SMhand_34', 'R_SMhand_35', 'R_SMhand_36', 'R_SMhand_37',\n",
       "       'R_SMhand_38', 'L_SMmouth_1', 'L_SMmouth_2', 'L_SMmouth_3',\n",
       "       'L_SMmouth_4', 'R_SMmouth_5', 'R_SMmouth_6', 'R_SMmouth_7',\n",
       "       'R_SMmouth_8', 'L_Auditory_1', 'L_Auditory_2', 'L_Auditory_3',\n",
       "       'L_Auditory_4', 'L_Auditory_5', 'L_Auditory_6', 'L_Auditory_7',\n",
       "       'L_Auditory_8', 'L_Auditory_9', 'L_Auditory_10', 'L_Auditory_11',\n",
       "       'L_Auditory_12', 'R_Auditory_13', 'R_Auditory_14', 'R_Auditory_15',\n",
       "       'R_Auditory_16', 'R_Auditory_17', 'R_Auditory_18', 'R_Auditory_19',\n",
       "       'R_Auditory_20', 'R_Auditory_21', 'R_Auditory_22', 'R_Auditory_23',\n",
       "       'R_Auditory_24'], dtype='<U19')"
      ]
     },
     "execution_count": 4,
     "metadata": {},
     "output_type": "execute_result"
    }
   ],
   "source": [
    "roi_list = []\n",
    "for i in range(334):\n",
    "    roi_list.append(template_labels[0][i][0])\n",
    "roi_list = np.array(roi_list)\n",
    "print(len(roi_list))\n",
    "roi_list"
   ]
  },
  {
   "cell_type": "code",
   "execution_count": 5,
   "metadata": {},
   "outputs": [],
   "source": [
    "networks_names = ['None', 'Default', 'ParietoOccip', 'FrontoParietal', 'Salience', 'CinguloOperc', 'MedialParietal', \n",
    "                  'DorsalAttn', 'VentralAttn', 'Visual', 'SMhand', 'SMmouth', 'Auditory']\n",
    "plot_networks_names = ['Default', 'ParietoOccip', 'FrontoParietal', 'Salience', 'CinguloOperc', 'ParietalMem', \n",
    "                  'DorsalAttn', 'VentralAttn', 'Visual', 'SomoMoto', 'LatSomoMoto', 'Auditory']"
   ]
  },
  {
   "cell_type": "code",
   "execution_count": 6,
   "metadata": {},
   "outputs": [],
   "source": [
    "# Create weights for network averages \n",
    "def get_weights():\n",
    "    roi_voxel_count_list = []\n",
    "    for region in roi_list:\n",
    "        roi_count = 0\n",
    "        for entry in voxel_index[0]:\n",
    "            roi = template_labels[0][entry][0]\n",
    "            if region == roi:\n",
    "                roi_count = roi_count + 1\n",
    "#         print(region, roi, roi_count)\n",
    "        roi_voxel_count_list.append([region, roi_count])\n",
    "    print(len(roi_voxel_count_list))\n",
    "    \n",
    "    net_voxel_count_list = []\n",
    "    for net in networks_names:\n",
    "        net_voxel_count = 0\n",
    "        for i in range(len(roi_voxel_count_list)):\n",
    "            if roi_voxel_count_list[i][0].find(net) > 0:\n",
    "                    net_voxel_count = net_voxel_count + roi_voxel_count_list[i][1]\n",
    "        net_voxel_count_list.append([net, net_voxel_count])\n",
    "    print(len(net_voxel_count_list))\n",
    "    \n",
    "    roi_weight_list = []\n",
    "    for i in range(len(roi_voxel_count_list)):\n",
    "        roi_name = roi_voxel_count_list[i][0]\n",
    "        if roi_name == '???':\n",
    "                roi_weight_list.append([roi_name, 1])\n",
    "        for j in range(len(net_voxel_count_list)):\n",
    "            net_name = net_voxel_count_list[j][0]\n",
    "            if roi_name.find(net_name) > 0:\n",
    "                weight = roi_voxel_count_list[i][1] / net_voxel_count_list[j][1] \n",
    "                roi_weight_list.append([roi_name, weight])\n",
    "    return roi_weight_list"
   ]
  },
  {
   "cell_type": "code",
   "execution_count": 7,
   "metadata": {},
   "outputs": [
    {
     "name": "stdout",
     "output_type": "stream",
     "text": [
      "334\n",
      "13\n",
      "334\n"
     ]
    }
   ],
   "source": [
    "roi_weights = get_weights()\n",
    "print(len(roi_weights))"
   ]
  },
  {
   "cell_type": "code",
   "execution_count": 10,
   "metadata": {},
   "outputs": [],
   "source": [
    "# Weighted network averages \n",
    "def Make_Network_Plots(file_list):\n",
    "    output_list, error_df_list = [], []\n",
    "    for entry in file_list:\n",
    "        corr_data = np.arctanh(np.array(nib.load(entry).get_fdata())) #Meta-correlation values\n",
    "#         corr_data = np.array(nib.load(entry).get_fdata())             #Mean Values\n",
    "        print(corr_data.shape)\n",
    "        \n",
    "        voxel_corr_roi_list = []\n",
    "        for i, entry in enumerate(voxel_index[0]):\n",
    "            corr_val = corr_data[0][i]\n",
    "            roi = template_labels[0][entry][0]\n",
    "        #     print(i, roi, corr_val)\n",
    "            voxel_corr_roi_list.append([roi, corr_val])\n",
    "            \n",
    "        corr_map = []\n",
    "        for region in roi_list:\n",
    "            mean_count = 0\n",
    "            mean_sum = 0\n",
    "            for entry in voxel_corr_roi_list:\n",
    "                roi = entry[0]\n",
    "                corr_val = entry[1]\n",
    "                if region == roi:\n",
    "                    mean_count = mean_count + 1\n",
    "                    mean_sum = mean_sum + corr_val\n",
    "            if region == '???':\n",
    "                mean_val = 0\n",
    "            else:\n",
    "                mean_val = mean_sum / mean_count\n",
    "        #     print(region, mean_val)\n",
    "            corr_map.append([region, mean_val])\n",
    "        print(len(corr_map))\n",
    "        \n",
    "        voxel_data = []\n",
    "        for entry in voxel_index[0]:\n",
    "            roi = template_labels[0][entry][0]\n",
    "#             print(entry, roi)\n",
    "            for entry in corr_map:\n",
    "                if entry[0] == roi:\n",
    "                    voxel_data.append(entry[1])\n",
    "                    \n",
    "        none_list, default_list, po_list, fp_list, salience_list, co_list, mp_list = [], [], [], [], [], [], []\n",
    "        da_list, va_list, visual_list, smhand_list, smmouth_list, aud_list = [], [], [], [], [], []\n",
    "        for i in range(np.shape(corr_map)[0]):\n",
    "            corr_val = corr_map[i][1]\n",
    "            corr_label = roi_list[i]\n",
    "            weight = roi_weights[i][1]\n",
    "#             print(corr_label, corr_val)\n",
    "\n",
    "            if corr_label.find('None') > 0:\n",
    "                none_list.append([corr_val, weight])\n",
    "            if corr_label.find('Default') > 0:\n",
    "                default_list.append([corr_val, weight])\n",
    "            if corr_label.find('ParietoOccip') > 0:\n",
    "                po_list.append([corr_val, weight])\n",
    "            if corr_label.find('FrontoParietal') > 0:\n",
    "                fp_list.append([corr_val, weight])\n",
    "            if corr_label.find('Salience') > 0:\n",
    "                salience_list.append([corr_val, weight])\n",
    "            if corr_label.find('CinguloOperc') > 0:\n",
    "                co_list.append([corr_val, weight])\n",
    "            if corr_label.find('MedialParietal') > 0:\n",
    "                mp_list.append([corr_val, weight])\n",
    "            if corr_label.find('DorsalAttn') > 0:\n",
    "                da_list.append([corr_val, weight])\n",
    "            if corr_label.find('VentralAttn') > 0:\n",
    "                va_list.append([corr_val, weight])\n",
    "            if corr_label.find('Visual') > 0:\n",
    "                visual_list.append([corr_val, weight])\n",
    "            if corr_label.find('SMhand') > 0:\n",
    "                smhand_list.append([corr_val, weight])\n",
    "            if corr_label.find('SMmouth') > 0:\n",
    "                smmouth_list.append([corr_val, weight])\n",
    "            if corr_label.find('Auditory') > 0:\n",
    "                aud_list.append([corr_val, weight])\n",
    "        print(len(none_list),len(default_list),len(po_list),len(fp_list),len(salience_list),len(co_list),len(mp_list),\n",
    "              len(da_list),len(va_list),len(visual_list),len(smhand_list),len(smmouth_list),len(aud_list))\n",
    "                \n",
    "        mean_corr_list = []\n",
    "        error_df = pd.DataFrame()\n",
    "        for ii, network_list in enumerate([default_list, po_list, fp_list, salience_list, co_list, mp_list, da_list, va_list, \n",
    "                             visual_list, smhand_list, smmouth_list, aud_list]):\n",
    "            vals = [entry[0] for entry in network_list]\n",
    "            weights = [entry[1] for entry in network_list]\n",
    "#             print(vals)\n",
    "#             print(weights)\n",
    "            mean_corr = np.average(vals, weights=weights)\n",
    "            mean_corr_list.append(mean_corr)\n",
    "            error_df[plot_networks_names[ii]] = pd.Series(vals)\n",
    "            error_df[plot_networks_names[ii]+'_weights'] = pd.Series(weights)\n",
    "        print(len(mean_corr_list))\n",
    "        \n",
    "        mean_corr_list_sort, plot_networks_names_sort, networks_names_sort = (list(t) for t in zip(*sorted(\n",
    "                                zip(mean_corr_list, plot_networks_names, networks_names), reverse=True)))\n",
    "            \n",
    "        output_list.append([plot_networks_names_sort, mean_corr_list_sort])\n",
    "        error_df_list.append(error_df)\n",
    "        \n",
    "    return output_list, error_df_list"
   ]
  },
  {
   "cell_type": "code",
   "execution_count": 63,
   "metadata": {},
   "outputs": [],
   "source": [
    "# Un-weighted Average \n",
    "def Make_Network_Plots(file_list):\n",
    "    output_list, error_df_list = [], []\n",
    "    for entry in file_list:\n",
    "        corr_data = np.arctanh(np.array(nib.load(entry).get_fdata())) #Meta-correlation values\n",
    "#         corr_data = np.array(nib.load(entry).get_fdata())             #Mean Values\n",
    "        print(corr_data.shape)\n",
    "        \n",
    "        voxel_corr_roi_list = []\n",
    "        for i, entry in enumerate(voxel_index[0]):\n",
    "            corr_val = corr_data[0][i]\n",
    "            roi = template_labels[0][entry][0]\n",
    "        #     print(i, roi, corr_val)\n",
    "            voxel_corr_roi_list.append([roi, corr_val])\n",
    "            \n",
    "        corr_map = []\n",
    "        for region in roi_list:\n",
    "            mean_count = 0\n",
    "            mean_sum = 0\n",
    "            for entry in voxel_corr_roi_list:\n",
    "                roi = entry[0]\n",
    "                corr_val = entry[1]\n",
    "                if region == roi:\n",
    "                    mean_count = mean_count + 1\n",
    "                    mean_sum = mean_sum + corr_val\n",
    "            if region == '???':\n",
    "                mean_val = 0\n",
    "            else:\n",
    "                mean_val = mean_sum / mean_count\n",
    "        #     print(region, mean_val)\n",
    "            corr_map.append([region, mean_val])\n",
    "        print(len(corr_map))\n",
    "        \n",
    "        voxel_data = []\n",
    "        for entry in voxel_index[0]:\n",
    "            roi = template_labels[0][entry][0]\n",
    "#             print(entry, roi)\n",
    "            for entry in corr_map:\n",
    "                if entry[0] == roi:\n",
    "                    voxel_data.append(entry[1])\n",
    "                    \n",
    "        none_list, default_list, po_list, fp_list, salience_list, co_list, mp_list = [], [], [], [], [], [], []\n",
    "        da_list, va_list, visual_list, smhand_list, smmouth_list, aud_list = [], [], [], [], [], []\n",
    "        for i in range(np.shape(corr_map)[0]):\n",
    "            corr_val = corr_map[i][1]\n",
    "            corr_label = roi_list[i]\n",
    "#             print(corr_label, corr_val)\n",
    "\n",
    "            if corr_label.find('None') > 0:\n",
    "                none_list.append(corr_val)\n",
    "            if corr_label.find('Default') > 0:\n",
    "                default_list.append(corr_val)\n",
    "            if corr_label.find('ParietoOccip') > 0:\n",
    "                po_list.append(corr_val)\n",
    "            if corr_label.find('FrontoParietal') > 0:\n",
    "                fp_list.append(corr_val)\n",
    "            if corr_label.find('Salience') > 0:\n",
    "                salience_list.append(corr_val)\n",
    "            if corr_label.find('CinguloOperc') > 0:\n",
    "                co_list.append(corr_val)\n",
    "            if corr_label.find('MedialParietal') > 0:\n",
    "                mp_list.append(corr_val)\n",
    "            if corr_label.find('DorsalAttn') > 0:\n",
    "                da_list.append(corr_val)\n",
    "            if corr_label.find('VentralAttn') > 0:\n",
    "                va_list.append(corr_val)\n",
    "            if corr_label.find('Visual') > 0:\n",
    "                visual_list.append(corr_val)\n",
    "            if corr_label.find('SMhand') > 0:\n",
    "                smhand_list.append(corr_val)\n",
    "            if corr_label.find('SMmouth') > 0:\n",
    "                smmouth_list.append(corr_val)\n",
    "            if corr_label.find('Auditory') > 0:\n",
    "                aud_list.append(corr_val)\n",
    "        print(len(none_list),len(default_list),len(po_list),len(fp_list),len(salience_list),len(co_list),len(mp_list),\n",
    "              len(da_list),len(va_list),len(visual_list),len(smhand_list),len(smmouth_list),len(aud_list))\n",
    "                \n",
    "        mean_corr_list = []\n",
    "        error_df = pd.DataFrame()\n",
    "        for ii, network_list in enumerate([default_list, po_list, fp_list, salience_list, co_list, mp_list, da_list, va_list, \n",
    "                             visual_list, smhand_list, smmouth_list, aud_list]):\n",
    "            mean_corr = np.mean(network_list)\n",
    "            mean_corr_list.append(mean_corr)\n",
    "            error_df[plot_networks_names[ii]] = pd.Series(network_list)\n",
    "            error_df[plot_networks_names[ii]+'_weights'] = pd.Series()\n",
    "        print(len(mean_corr_list))\n",
    "        \n",
    "        mean_corr_list_sort, plot_networks_names_sort, networks_names_sort = (list(t) for t in zip(*sorted(\n",
    "                                zip(mean_corr_list, plot_networks_names, networks_names), reverse=True)))\n",
    "            \n",
    "        output_list.append([plot_networks_names_sort, mean_corr_list_sort])\n",
    "        error_df_list.append(error_df)\n",
    "        \n",
    "    return output_list, error_df_list"
   ]
  },
  {
   "cell_type": "code",
   "execution_count": 64,
   "metadata": {
    "scrolled": true
   },
   "outputs": [
    {
     "name": "stdout",
     "output_type": "stream",
     "text": [
      "(1, 59412)\n",
      "334\n",
      "47 41 8 24 4 40 5 32 23 39 38 8 24\n",
      "12\n",
      "(1, 59412)\n",
      "334\n",
      "47 41 8 24 4 40 5 32 23 39 38 8 24\n",
      "12\n",
      "(1, 59412)\n",
      "334\n",
      "47 41 8 24 4 40 5 32 23 39 38 8 24\n",
      "12\n",
      "\n",
      " 3\n"
     ]
    },
    {
     "data": {
      "text/plain": [
       "[[['Salience',\n",
       "   'Visual',\n",
       "   'SomoMoto',\n",
       "   'ParietoOccip',\n",
       "   'FrontoParietal',\n",
       "   'DorsalAttn',\n",
       "   'Default',\n",
       "   'VentralAttn',\n",
       "   'CinguloOperc',\n",
       "   'ParietalMem',\n",
       "   'LatSomoMoto',\n",
       "   'Auditory'],\n",
       "  [0.9250540883423908,\n",
       "   0.6997718232735348,\n",
       "   0.6909626470060334,\n",
       "   0.6811663807328792,\n",
       "   0.6653596326541945,\n",
       "   0.6402180449713715,\n",
       "   0.6330149727353165,\n",
       "   0.6079646656713543,\n",
       "   0.5708243039507852,\n",
       "   0.5394080990852288,\n",
       "   0.5100511164152212,\n",
       "   0.39615518613384254]],\n",
       " [['SomoMoto',\n",
       "   'LatSomoMoto',\n",
       "   'VentralAttn',\n",
       "   'ParietoOccip',\n",
       "   'Salience',\n",
       "   'DorsalAttn',\n",
       "   'Visual',\n",
       "   'Default',\n",
       "   'CinguloOperc',\n",
       "   'FrontoParietal',\n",
       "   'Auditory',\n",
       "   'ParietalMem'],\n",
       "  [0.31576202765164385,\n",
       "   0.2261375371166145,\n",
       "   0.221465061568077,\n",
       "   0.2191091723002605,\n",
       "   0.20234445759466202,\n",
       "   0.19153162378274527,\n",
       "   0.19106943413275673,\n",
       "   0.1899118444248666,\n",
       "   0.18963479237271802,\n",
       "   0.18643376042845725,\n",
       "   0.18561056968195436,\n",
       "   0.18343855748406085]],\n",
       " [['SomoMoto',\n",
       "   'LatSomoMoto',\n",
       "   'ParietalMem',\n",
       "   'DorsalAttn',\n",
       "   'VentralAttn',\n",
       "   'CinguloOperc',\n",
       "   'Auditory',\n",
       "   'Default',\n",
       "   'ParietoOccip',\n",
       "   'FrontoParietal',\n",
       "   'Salience',\n",
       "   'Visual'],\n",
       "  [0.3429599624356361,\n",
       "   0.2727995870090205,\n",
       "   0.20687043688286516,\n",
       "   0.2057939997284232,\n",
       "   0.18718929871565812,\n",
       "   0.18626002915840745,\n",
       "   0.18569024027070644,\n",
       "   0.18313989563441185,\n",
       "   0.18267193336585863,\n",
       "   0.16932070470096341,\n",
       "   0.1671259363067132,\n",
       "   0.1663109948227334]]]"
      ]
     },
     "execution_count": 64,
     "metadata": {},
     "output_type": "execute_result"
    }
   ],
   "source": [
    "# file_list = ['/Users/neurogazer/Pipeline/test/Regional_Inhomogeneity_Analysis/Ma_Paper_Replication/Final_Figure_Files/Mean_Myelin.32k_fs_LR.dscalar.nii', \n",
    "#               '/Users/neurogazer/Pipeline/test/Regional_Inhomogeneity_Analysis/Ma_Paper_Replication/Final_Figure_Files/Mean_Thickness.32k_fs_LR.dscalar.nii']\n",
    "file_list = ['/Users/neurogazer/Pipeline/test/Regional_Inhomogeneity_Analysis/Ma_Paper_Replication/Final_Figure_Files/Standard_Brain_Maps/MFMC_Both_Demeaned.32k_fs_LR.dscalar.nii', \n",
    "             '/Users/neurogazer/Pipeline/test/Regional_Inhomogeneity_Analysis/Ma_Paper_Replication/Final_Figure_Files/Standard_Brain_Maps/TFMC_Both_Demeaned.32k_fs_LR.dscalar.nii', \n",
    "             '/Users/neurogazer/Pipeline/test/Regional_Inhomogeneity_Analysis/Ma_Paper_Replication/Final_Figure_Files/Standard_Brain_Maps/MTMC_Both_Demeaned.32k_fs_LR.dscalar.nii']\n",
    "# file_list = ['/Users/neurogazer/Pipeline/test/Regional_Inhomogeneity_Analysis/Ma_Paper_Replication/Final_Figure_Files/Subgroup_MC_Maps/MTMC_Group1.dscalar.nii', \n",
    "#              '/Users/neurogazer/Pipeline/test/Regional_Inhomogeneity_Analysis/Ma_Paper_Replication/Final_Figure_Files/Subgroup_MC_Maps/MTMC_Group2.dscalar.nii']\n",
    "# file_list = ['/Users/neurogazer/Pipeline/test/Regional_Inhomogeneity_Analysis/Ma_Paper_Replication/Final_Figure_Files/Old_Young_Subgroups/MTMC_young_Gordon_confoundreg.32k_fs_LR.dscalar.nii', \n",
    "#              '/Users/neurogazer/Pipeline/test/Regional_Inhomogeneity_Analysis/Ma_Paper_Replication/Final_Figure_Files/Old_Young_Subgroups/MTMC_old_Gordon_confoundreg.32k_fs_LR.dscalar.nii']\n",
    "plot_list, error_dfs = Make_Network_Plots(file_list)\n",
    "print('\\n ' + str(len(error_dfs)))\n",
    "plot_list"
   ]
  },
  {
   "cell_type": "markdown",
   "metadata": {},
   "source": [
    "# Use the following to make bar graphs showing mean meta-corr for each network at the voxel or ROI level."
   ]
  },
  {
   "cell_type": "code",
   "execution_count": 12,
   "metadata": {},
   "outputs": [
    {
     "name": "stdout",
     "output_type": "stream",
     "text": [
      "[[['Salience', 'SomoMoto', 'ParietoOccip', 'Visual', 'FrontoParietal', 'DorsalAttn', 'VentralAttn', 'ParietalMem', 'CinguloOperc', 'Default', 'LatSomoMoto', 'Auditory'], [0.9171789631714724, 0.6919043924271598, 0.6914703471325558, 0.689363715198933, 0.6437465727857186, 0.6399525957502019, 0.5973287760017213, 0.5700000139211198, 0.5293720561049069, 0.5194710609632756, 0.4658386913750633, 0.4024693247735541]], [['Salience', 'SomoMoto', 'ParietoOccip', 'Visual', 'FrontoParietal', 'DorsalAttn', 'VentralAttn', 'ParietalMem', 'CinguloOperc', 'Default', 'LatSomoMoto', 'Auditory'], [0.2012646718699099, 0.3102986601742979, 0.18765919169120976, 0.18906333686529317, 0.18112831195627732, 0.19669829267181393, 0.21498527023769795, 0.18957101339361737, 0.18664080350972323, 0.17437167981898707, 0.2269867698218485, 0.19008934565765462]], [['Salience', 'SomoMoto', 'ParietoOccip', 'Visual', 'FrontoParietal', 'DorsalAttn', 'VentralAttn', 'ParietalMem', 'CinguloOperc', 'Default', 'LatSomoMoto', 'Auditory'], [0.16577683048879197, 0.3367474843586584, 0.16024623014977507, 0.16064561654011797, 0.17149341086879133, 0.21939506959032523, 0.19490469738031238, 0.21376052057049616, 0.17816476438815015, 0.1678970231143783, 0.26887154810418495, 0.1867864568958119]]]\n"
     ]
    }
   ],
   "source": [
    "# This block of code makes the order of the networks be the same in the 3 plots at voxel level.\n",
    "# Note: we use ordering of voxel MFMC for all bar plots\n",
    "mfmc_plot_order = plot_list[0][0]\n",
    "mfmc_plot_values = plot_list[0][1]\n",
    "tfmc_plot_order = plot_list[1][0]\n",
    "tfmc_plot_values = plot_list[1][1]\n",
    "mtmc_plot_order = plot_list[2][0]\n",
    "mtmc_plot_values = plot_list[2][1]\n",
    "\n",
    "new_tfmc_plot_order, new_tfmc_plot_values, new_mtmc_plot_order, new_mtmc_plot_values = [], [], [], []\n",
    "for net in mfmc_plot_order:\n",
    "    for i in range(len(mfmc_plot_order)):\n",
    "        if tfmc_plot_order[i] == net:\n",
    "            new_tfmc_plot_order.append(net)\n",
    "            new_tfmc_plot_values.append(tfmc_plot_values[i])\n",
    "        if mtmc_plot_order[i] == net:\n",
    "            new_mtmc_plot_order.append(net)\n",
    "            new_mtmc_plot_values.append(mtmc_plot_values[i])\n",
    "            \n",
    "new_plot_list = [[mfmc_plot_order, mfmc_plot_values], [new_tfmc_plot_order, new_tfmc_plot_values], \n",
    "                 [new_mtmc_plot_order, new_mtmc_plot_values]]\n",
    "\n",
    "print(new_plot_list)\n",
    "\n",
    "# Orders erros the same way as the plot networks \n",
    "error_order = []\n",
    "for entry in new_plot_list[0][0]:\n",
    "    error_order.append(entry)\n",
    "    error_order.append(entry+'_weights')\n",
    "error_dfs[0] = error_dfs[0].reindex(error_order, axis=1)\n",
    "error_dfs[1] = error_dfs[1].reindex(error_order, axis=1)\n",
    "error_dfs[2] = error_dfs[2].reindex(error_order, axis=1)"
   ]
  },
  {
   "cell_type": "code",
   "execution_count": 18,
   "metadata": {},
   "outputs": [
    {
     "name": "stdout",
     "output_type": "stream",
     "text": [
      "[[['Salience', 'SomoMoto', 'ParietoOccip', 'Visual', 'FrontoParietal', 'DorsalAttn', 'VentralAttn', 'ParietalMem', 'CinguloOperc', 'Default', 'LatSomoMoto', 'Auditory'], [0.9669144619886139, 0.9223801353774216, 0.6820065529502374, 0.7871747172465705, 0.6676714712034404, 0.6999721896897593, 0.604540024686422, 0.52065221711407, 0.5292532816661835, 0.397997917721405, 0.6775559031778813, 0.5048125503674863]], [['Salience', 'SomoMoto', 'ParietoOccip', 'Visual', 'FrontoParietal', 'DorsalAttn', 'VentralAttn', 'ParietalMem', 'CinguloOperc', 'Default', 'LatSomoMoto', 'Auditory'], [0.5514880368743011, 0.6542669188076972, 0.5277291429804378, 0.6431139504729863, 0.5378256898374365, 0.5641293172165389, 0.5190283165936782, 0.5166787187568702, 0.47595930462931996, 0.43811119596137393, 0.40360252727239326, 0.4810473960267887]], [['Salience', 'SomoMoto', 'ParietoOccip', 'Visual', 'FrontoParietal', 'DorsalAttn', 'VentralAttn', 'ParietalMem', 'CinguloOperc', 'Default', 'LatSomoMoto', 'Auditory'], [0.4834515168181664, 0.8209529213267607, 0.4573824441787777, 0.6695829423337017, 0.598859864027146, 0.7309173605826753, 0.5540705868714312, 0.652533955835155, 0.5189185664070204, 0.552794328608151, 0.6174359061815564, 0.4981844517819932]]]\n",
      "12 12 12\n"
     ]
    }
   ],
   "source": [
    "#This block of code makes the order of the networks be the same in the 3 plots for ROI-level.\n",
    "order = ['Salience', 'SomoMoto',  'ParietoOccip', 'Visual', 'FrontoParietal', 'DorsalAttn', 'VentralAttn', \n",
    "         'ParietalMem', 'CinguloOperc', 'Default', 'LatSomoMoto', 'Auditory']\n",
    "\n",
    "mfmc_plot_order = plot_list[0][0]\n",
    "mfmc_plot_values = plot_list[0][1]\n",
    "tfmc_plot_order = plot_list[1][0]\n",
    "tfmc_plot_values = plot_list[1][1]\n",
    "mtmc_plot_order = plot_list[2][0]\n",
    "mtmc_plot_values = plot_list[2][1]\n",
    "\n",
    "new_mfmc_plot_order, new_mfmc_plot_values = [], [] \n",
    "new_tfmc_plot_order, new_tfmc_plot_values, new_mtmc_plot_order, new_mtmc_plot_values = [], [], [], []\n",
    "for net in order:\n",
    "    for i in range(len(order)):\n",
    "        if mfmc_plot_order[i] == net:\n",
    "            new_mfmc_plot_order.append(net)\n",
    "            new_mfmc_plot_values.append(mfmc_plot_values[i])\n",
    "        if tfmc_plot_order[i] == net:\n",
    "            new_tfmc_plot_order.append(net)\n",
    "            new_tfmc_plot_values.append(tfmc_plot_values[i])\n",
    "        if mtmc_plot_order[i] == net:\n",
    "            new_mtmc_plot_order.append(net)\n",
    "            new_mtmc_plot_values.append(mtmc_plot_values[i])\n",
    "            \n",
    "new_plot_list = [[new_mfmc_plot_order, new_mfmc_plot_values], [new_tfmc_plot_order, new_tfmc_plot_values], \n",
    "                 [new_mtmc_plot_order, new_mtmc_plot_values]]\n",
    "\n",
    "print(new_plot_list)\n",
    "print(len(new_plot_list[0][0]), len(new_plot_list[1][0]), len(new_plot_list[2][0]))\n",
    "\n",
    "# Orders erros the same way as the plot networks \n",
    "error_order = []\n",
    "for entry in new_plot_list[0][0]:\n",
    "    error_order.append(entry)\n",
    "    error_order.append(entry+'_weights')\n",
    "error_dfs[0] = error_dfs[0].reindex(error_order, axis=1)\n",
    "error_dfs[1] = error_dfs[1].reindex(error_order, axis=1)\n",
    "error_dfs[2] = error_dfs[2].reindex(error_order, axis=1)"
   ]
  },
  {
   "cell_type": "code",
   "execution_count": 19,
   "metadata": {},
   "outputs": [],
   "source": [
    "colors = []\n",
    "labels = []\n",
    "for entry in new_tfmc_plot_order:\n",
    "    if entry == 'Salience':\n",
    "        color = (160,82,45)\n",
    "        label = 'Sal'\n",
    "    if entry == 'VentralAttn':\n",
    "        color = (255,165,0)\n",
    "        label = 'VA'\n",
    "    if entry == 'Default':\n",
    "        color = (0,0,0)\n",
    "        label = 'Def'\n",
    "    if entry == 'FrontoParietal':\n",
    "        color = (128,128,128)\n",
    "        label = 'FP'\n",
    "    if entry == 'SomoMoto':\n",
    "        color = (0,255,0)\n",
    "        label = 'SM'\n",
    "    if entry == 'Visual':\n",
    "        color = (255,255,0)\n",
    "        label = 'Vis'\n",
    "    if entry == 'DorsalAttn':\n",
    "        color = (255,0,0)\n",
    "        label = 'DA'\n",
    "    if entry == 'ParietoOccip':\n",
    "        color = (0,255,255)\n",
    "        label = 'PO'\n",
    "    if entry == 'CinguloOperc':\n",
    "        color = (0,0,255)\n",
    "        label = 'CO'\n",
    "    if entry == 'ParietalMem':\n",
    "        color = (0,191,255)\n",
    "        label = 'PM'\n",
    "    if entry == 'LatSomoMoto':\n",
    "        color = (0,128,128)\n",
    "        label = 'LSM'\n",
    "    if entry == 'Auditory':\n",
    "        color = (255,0,255)\n",
    "        label = 'Aud'\n",
    "    colors.append(color)\n",
    "    labels.append(label)\n",
    "\n",
    "colors = list(np.array(colors)/255.0)"
   ]
  },
  {
   "cell_type": "code",
   "execution_count": 20,
   "metadata": {},
   "outputs": [],
   "source": [
    "def weighted_bootstrap(data, weights, n=1000, func=np.average):\n",
    "    \"\"\"\n",
    "    Generate `n` bootstrap samples, evaluating `func`\n",
    "    at each resampling. `bootstrap` returns a function,\n",
    "    which can be called to obtain confidence intervals\n",
    "    of interest.\n",
    "    \"\"\"\n",
    "    simulations = list()\n",
    "    sample_size = len(data)\n",
    "    xbar_init = np.average(data, weights=weights)\n",
    "    for c in range(n):\n",
    "        idx = np.random.choice(np.arange(sample_size), sample_size, replace=True)\n",
    "        data_sample = data[idx]\n",
    "        weight_sample = weights[idx]\n",
    "        simulations.append(func(data_sample, weights=weight_sample))\n",
    "    simulations.sort()\n",
    "    def ci(p):\n",
    "        \"\"\"\n",
    "        Return 2-sided symmetric confidence interval specified\n",
    "        by p.\n",
    "        \"\"\"\n",
    "        u_pval = (1+p)/2.\n",
    "        l_pval = (1-u_pval)\n",
    "        l_indx = int(np.floor(n*l_pval))\n",
    "        u_indx = int(np.floor(n*u_pval))\n",
    "        return(simulations[l_indx],simulations[u_indx])\n",
    "    return(ci)"
   ]
  },
  {
   "cell_type": "code",
   "execution_count": 21,
   "metadata": {},
   "outputs": [
    {
     "data": {
      "text/plain": [
       "3"
      ]
     },
     "execution_count": 21,
     "metadata": {},
     "output_type": "execute_result"
    }
   ],
   "source": [
    "ci_list_all = []\n",
    "for i, data in enumerate(error_dfs):\n",
    "    ci_list = []\n",
    "    for ii in [0,2,4,6,8,10,12,14,16,18,20,22]:\n",
    "        boot = weighted_bootstrap(data.iloc[:, ii].dropna().values, data.iloc[:, ii+1].dropna().values) # Voxel level\n",
    "        ci = boot(0.95) # 95% confidence intervals\n",
    "        ci_list.append(ci)\n",
    "    ci_array = np.array(ci_list)\n",
    "    ci_list = list(ci_array.T)\n",
    "    ci_list = [new_plot_list[i][1] - ci_list[0],  ci_list[1] - new_plot_list[i][1]]\n",
    "    ci_list_all.append(ci_list)\n",
    "len(ci_list_all)"
   ]
  },
  {
   "cell_type": "code",
   "execution_count": 22,
   "metadata": {},
   "outputs": [
    {
     "data": {
      "image/png": "[encoded data removed]",
      "text/plain": [
       "<Figure size 2160x2160 with 3 Axes>"
      ]
     },
     "metadata": {
      "needs_background": "light"
     },
     "output_type": "display_data"
    }
   ],
   "source": [
    "#Plotting for Meta-Correlations\n",
    "plt.figure(figsize=(30,30))\n",
    "ax1 = plt.subplot(3, 1, 1)\n",
    "plt.bar(labels, new_plot_list[0][1], yerr=ci_list_all[0], capsize=15, error_kw=dict(ecolor='dimgrey',lw=5,capthick=5), align='center', zorder=2, color=colors, edgecolor='black', linewidth=2, width=0.6)\n",
    "plt.xticks(rotation=90)\n",
    "plt.xticks(size = 30)\n",
    "plt.yticks(size = 30)\n",
    "plt.ylim(0.01, 1.0)\n",
    "plt.axhline(y=np.mean(new_plot_list[0][1]), color='b', linestyle='--', linewidth=5)\n",
    "\n",
    "ax2 = plt.subplot(3, 1, 2, sharex = ax1)\n",
    "plt.bar(labels, new_plot_list[1][1], yerr=ci_list_all[1], capsize=15, error_kw=dict(ecolor='dimgrey',lw=5,capthick=5), align='center', zorder=2, color=colors, edgecolor='black', linewidth=2, width=0.6)\n",
    "plt.xticks(rotation=90)\n",
    "plt.xticks(size = 30)\n",
    "plt.yticks(size = 30)\n",
    "plt.ylim(0.01, 1.0)\n",
    "plt.axhline(y=np.mean(new_plot_list[1][1]), color='b', linestyle='--', linewidth=5)\n",
    "\n",
    "ax3 = plt.subplot(3, 1, 3, sharex = ax1)\n",
    "plt.bar(labels, new_plot_list[2][1], yerr=ci_list_all[2], capsize=15, error_kw=dict(ecolor='dimgrey',lw=5,capthick=5), align='center', zorder=2, color=colors, edgecolor='black', linewidth=2, width=0.6)\n",
    "plt.xticks(rotation=90)\n",
    "plt.xticks(size = 30)\n",
    "plt.yticks(size = 30)\n",
    "plt.ylim(0, 1.0)\n",
    "plt.axhline(y=np.mean(new_plot_list[2][1]), color='b', linestyle='--', linewidth=5)\n",
    "plt.xlabel('Network', size = 50)\n",
    "\n",
    "plt.subplots_adjust(top = 0.95, hspace=0.0)\n",
    "plt.suptitle('Mean RSN Meta-Correlation ', size = 50)\n",
    "plt.text(-2.0,1.5, \"Z-Transformed Meta-Correlation\", ha=\"center\", va=\"center\", rotation=90, size = 50)\n",
    "plt.savefig('/Users/neurogazer/Pipeline/test/Regional_Inhomogeneity_Analysis/Ma_Paper_Replication/Final_Figure_Files/Mean_Meta-Corr_Gordon_RSNs_Ma_Method_ROI.pdf', bbox_inches='tight')\n",
    "plt.show()"
   ]
  },
  {
   "cell_type": "markdown",
   "metadata": {},
   "source": [
    "# The following makes a scatter plot comparing our network MFMC's to those from Ma and Zhang. "
   ]
  },
  {
   "cell_type": "markdown",
   "metadata": {},
   "source": [
    "Note: Should used un-weighted network averages here, to match Ma and Zang. "
   ]
  },
  {
   "cell_type": "code",
   "execution_count": 67,
   "metadata": {},
   "outputs": [
    {
     "name": "stdout",
     "output_type": "stream",
     "text": [
      "[[['Salience', 'Visual', 'SomoMoto', 'ParietoOccip', 'FrontoParietal', 'DorsalAttn', 'Default', 'VentralAttn', 'CinguloOperc', 'ParietalMem', 'LatSomoMoto', 'Auditory'], [0.9250540883423908, 0.6997718232735348, 0.6909626470060334, 0.6811663807328792, 0.6653596326541945, 0.6402180449713715, 0.6330149727353165, 0.6079646656713543, 0.5708243039507852, 0.5394080990852288, 0.5100511164152212, 0.39615518613384254]], [['Salience', 'Visual', 'SomoMoto', 'ParietoOccip', 'FrontoParietal', 'DorsalAttn', 'Default', 'VentralAttn', 'CinguloOperc', 'ParietalMem', 'LatSomoMoto', 'Auditory'], [0.20234445759466202, 0.19106943413275673, 0.31576202765164385, 0.2191091723002605, 0.18643376042845725, 0.19153162378274527, 0.1899118444248666, 0.221465061568077, 0.18963479237271802, 0.18343855748406085, 0.2261375371166145, 0.18561056968195436]], [['Salience', 'Visual', 'SomoMoto', 'ParietoOccip', 'FrontoParietal', 'DorsalAttn', 'Default', 'VentralAttn', 'CinguloOperc', 'ParietalMem', 'LatSomoMoto', 'Auditory'], [0.1671259363067132, 0.1663109948227334, 0.3429599624356361, 0.18267193336585863, 0.16932070470096341, 0.2057939997284232, 0.18313989563441185, 0.18718929871565812, 0.18626002915840745, 0.20687043688286516, 0.2727995870090205, 0.18569024027070644]]]\n"
     ]
    }
   ],
   "source": [
    "#This block of code makes the order of the networks be the same in the 3 plots.\n",
    "mfmc_plot_order = plot_list[0][0]\n",
    "mfmc_plot_values = plot_list[0][1]\n",
    "tfmc_plot_order = plot_list[1][0]\n",
    "tfmc_plot_values = plot_list[1][1]\n",
    "mtmc_plot_order = plot_list[2][0]\n",
    "mtmc_plot_values = plot_list[2][1]\n",
    "\n",
    "new_tfmc_plot_order, new_tfmc_plot_values, new_mtmc_plot_order, new_mtmc_plot_values = [], [], [], []\n",
    "for net in mfmc_plot_order:\n",
    "    for i in range(len(mfmc_plot_order)):\n",
    "        if tfmc_plot_order[i] == net:\n",
    "            new_tfmc_plot_order.append(net)\n",
    "            new_tfmc_plot_values.append(tfmc_plot_values[i])\n",
    "        if mtmc_plot_order[i] == net:\n",
    "            new_mtmc_plot_order.append(net)\n",
    "            new_mtmc_plot_values.append(mtmc_plot_values[i])\n",
    "            \n",
    "new_plot_list = [[mfmc_plot_order, mfmc_plot_values], [new_tfmc_plot_order, new_tfmc_plot_values], \n",
    "                 [new_mtmc_plot_order, new_mtmc_plot_values]]\n",
    "\n",
    "print(new_plot_list)"
   ]
  },
  {
   "cell_type": "code",
   "execution_count": 68,
   "metadata": {},
   "outputs": [
    {
     "name": "stdout",
     "output_type": "stream",
     "text": [
      "12\n",
      "12\n",
      "12\n",
      "12\n",
      "12\n"
     ]
    }
   ],
   "source": [
    "orig_corr = new_plot_list[0][1]\n",
    "orig_order = new_plot_list[0][0]\n",
    "ma_zhang_corr = [0.59, 0.57, 0.51, 0.45, 0.39, 0.32, 0.31, 0.29, 0.26, 0.22, 0.2, 0.19]\n",
    "ma_zhang_order = ['Visual', 'SomoMoto', 'LatSomoMoto', 'Auditory', 'ParietoOccip', 'DorsalAttn', 'VentralAttn', \n",
    "                  'Salience', 'FrontoParietal', 'Default', 'CinguloOperc', 'ParietalMem']\n",
    "ma_zhang_labels = ['Vis', 'SM', 'LSM', 'Aud', 'PO', 'DA', 'VA', 'Sal', 'FP', 'Def', 'CO', 'PM']\n",
    "\n",
    "print(len(orig_corr))\n",
    "print(len(orig_order))\n",
    "print(len(ma_zhang_corr))\n",
    "print(len(ma_zhang_order))\n",
    "print(len(ma_zhang_labels))"
   ]
  },
  {
   "cell_type": "code",
   "execution_count": 69,
   "metadata": {},
   "outputs": [
    {
     "name": "stdout",
     "output_type": "stream",
     "text": [
      "12\n",
      "['Salience', 'Visual', 'SomoMoto', 'ParietoOccip', 'FrontoParietal', 'DorsalAttn', 'Default', 'VentralAttn', 'CinguloOperc', 'ParietalMem', 'LatSomoMoto', 'Auditory']\n",
      "12\n",
      "[0.29, 0.59, 0.57, 0.39, 0.26, 0.32, 0.22, 0.31, 0.2, 0.19, 0.51, 0.45]\n",
      "12\n",
      "['Sal', 'Vis', 'SM', 'PO', 'FP', 'DA', 'Def', 'VA', 'CO', 'PM', 'LSM', 'Aud']\n",
      "12\n",
      "[0.9250540883423908, 0.6997718232735348, 0.6909626470060334, 0.6811663807328792, 0.6653596326541945, 0.6402180449713715, 0.6330149727353165, 0.6079646656713543, 0.5708243039507852, 0.5394080990852288, 0.5100511164152212, 0.39615518613384254]\n",
      "-0.038481308348205914\n"
     ]
    }
   ],
   "source": [
    "sorted_ma_zhang_order = []\n",
    "sorted_ma_zhang_corr = []\n",
    "sorted_labels = []\n",
    "for i in range(len(orig_order)):\n",
    "    net_name = orig_order[i]\n",
    "    net_index = ma_zhang_order.index(net_name)\n",
    "    ma_zhang_net_name = ma_zhang_order[net_index]\n",
    "    ma_zhang_val =  ma_zhang_corr[net_index]\n",
    "    ma_zhang_label =  ma_zhang_labels[net_index]\n",
    "    sorted_ma_zhang_order.append(ma_zhang_net_name)\n",
    "    sorted_ma_zhang_corr.append(ma_zhang_val)\n",
    "    sorted_labels.append(ma_zhang_label)\n",
    "\n",
    "print(len(sorted_ma_zhang_order))\n",
    "print(sorted_ma_zhang_order)\n",
    "print(len(sorted_ma_zhang_corr))\n",
    "print(sorted_ma_zhang_corr)\n",
    "print(len(sorted_labels))\n",
    "print(sorted_labels)\n",
    "print(len(orig_corr))\n",
    "print(orig_corr)\n",
    "\n",
    "corr = np.corrcoef(orig_corr, sorted_ma_zhang_corr)[0][1]\n",
    "print(corr)"
   ]
  },
  {
   "cell_type": "code",
   "execution_count": 72,
   "metadata": {},
   "outputs": [],
   "source": [
    "colors = []\n",
    "\n",
    "for entry in sorted_ma_zhang_order:\n",
    "    if entry == 'Salience':\n",
    "        color = (160,82,45)\n",
    "    if entry == 'VentralAttn':\n",
    "        color = (255,165,0)\n",
    "    if entry == 'Default':\n",
    "        color = (0,0,0)\n",
    "    if entry == 'FrontoParietal':\n",
    "        color = (128,128,128)\n",
    "    if entry == 'SomoMoto':\n",
    "        color = (0,255,0)\n",
    "    if entry == 'Visual':\n",
    "        color = (255,255,0)\n",
    "    if entry == 'DorsalAttn':\n",
    "        color = (255,0,0)\n",
    "    if entry == 'ParietoOccip':\n",
    "        color = (0,255,255)\n",
    "    if entry == 'CinguloOperc':\n",
    "        color = (0,0,255)\n",
    "    if entry == 'ParietalMem':\n",
    "        color = (0,191,255)\n",
    "    if entry == 'LatSomoMoto':\n",
    "        color = (0,128,128)\n",
    "    if entry == 'Auditory':\n",
    "        color = (255,0,255)\n",
    "    colors.append(color)\n",
    "\n",
    "colors = list(np.array(colors)/255.0)"
   ]
  },
  {
   "cell_type": "code",
   "execution_count": 74,
   "metadata": {},
   "outputs": [],
   "source": [
    "plot_labels = ['Salience', 'Visual', 'Somato-motor', 'Parieto-occipital', 'Fronto-parietal', 'Dorsal Att.',\n",
    "               'Default', 'Ventral Att.', 'Cingulo-opercular', 'Parietal Memory', 'Lat. Somato-motor', 'Auditory']"
   ]
  },
  {
   "cell_type": "code",
   "execution_count": 75,
   "metadata": {},
   "outputs": [
    {
     "name": "stdout",
     "output_type": "stream",
     "text": [
      "['Visual', 'SomoMoto', 'LatSomoMoto', 'Auditory']\n",
      "[0.6997718232735348, 0.6909626470060334, 0.5100511164152212, 0.39615518613384254]\n",
      "['Visual', 'SomoMoto', 'LatSomoMoto', 'Auditory']\n",
      "[0.59, 0.57, 0.51, 0.45]\n",
      "['Visual', 'Somato-motor', 'Lat. Somato-motor', 'Auditory']\n",
      "[array([1., 1., 0.]), array([0., 1., 0.]), array([0.        , 0.50196078, 0.50196078]), array([1., 0., 1.])]\n",
      "['Salience', 'ParietoOccip', 'FrontoParietal', 'DorsalAttn', 'Default', 'VentralAttn', 'CinguloOperc', 'ParietalMem']\n",
      "[0.9250540883423908, 0.6811663807328792, 0.6653596326541945, 0.6402180449713715, 0.6330149727353165, 0.6079646656713543, 0.5708243039507852, 0.5394080990852288]\n",
      "['Salience', 'ParietoOccip', 'FrontoParietal', 'DorsalAttn', 'Default', 'VentralAttn', 'CinguloOperc', 'ParietalMem']\n",
      "[0.29, 0.39, 0.26, 0.32, 0.22, 0.31, 0.2, 0.19]\n",
      "['Salience', 'Parieto-occipital', 'Fronto-parietal', 'Dorsal Att.', 'Default', 'Ventral Att.', 'Cingulo-opercular', 'Parietal Memory']\n",
      "[array([0.62745098, 0.32156863, 0.17647059]), array([0., 1., 1.]), array([0.50196078, 0.50196078, 0.50196078]), array([1., 0., 0.]), array([0., 0., 0.]), array([1.        , 0.64705882, 0.        ]), array([0., 0., 1.]), array([0.        , 0.74901961, 1.        ])]\n"
     ]
    }
   ],
   "source": [
    "# sensory_motor netowrks = SM, LSM, Visual, Aud\n",
    "sm_indices = [1, 2, 10, 11]\n",
    "non_sm_indices = [0, 3, 4, 5, 6, 7, 8, 9]\n",
    "\n",
    "sm_orig_order = [orig_order[i] for i in sm_indices]\n",
    "sm_orig_corr = [orig_corr[i] for i in sm_indices]\n",
    "sm_sorted_ma_zhang_order = [sorted_ma_zhang_order[i] for i in sm_indices]\n",
    "sm_sorted_ma_zhang_corr = [sorted_ma_zhang_corr[i] for i in sm_indices]\n",
    "sm_plot_labels = [plot_labels[i] for i in sm_indices]\n",
    "sm_colors = [colors[i] for i in sm_indices]\n",
    "\n",
    "print(sm_orig_order)\n",
    "print(sm_orig_corr)\n",
    "print(sm_sorted_ma_zhang_order)\n",
    "print(sm_sorted_ma_zhang_corr)\n",
    "print(sm_plot_labels)\n",
    "print(sm_colors)\n",
    "\n",
    "non_sm_orig_order = [orig_order[i] for i in non_sm_indices]\n",
    "non_sm_orig_corr = [orig_corr[i] for i in non_sm_indices]\n",
    "non_sm_sorted_ma_zhang_order = [sorted_ma_zhang_order[i] for i in non_sm_indices]\n",
    "non_sm_sorted_ma_zhang_corr = [sorted_ma_zhang_corr[i] for i in non_sm_indices]\n",
    "non_sm_plot_labels = [plot_labels[i] for i in non_sm_indices]\n",
    "non_sm_colors = [colors[i] for i in non_sm_indices]\n",
    "\n",
    "print(non_sm_orig_order)\n",
    "print(non_sm_orig_corr)\n",
    "print(non_sm_sorted_ma_zhang_order)\n",
    "print(non_sm_sorted_ma_zhang_corr)\n",
    "print(non_sm_plot_labels)\n",
    "print(non_sm_colors)"
   ]
  },
  {
   "cell_type": "code",
   "execution_count": 76,
   "metadata": {},
   "outputs": [
    {
     "data": {
      "text/plain": [
       "(0.9912906060518246, 0.39026678561338574)"
      ]
     },
     "execution_count": 76,
     "metadata": {},
     "output_type": "execute_result"
    }
   ],
   "source": [
    "sm_corr = np.corrcoef(sm_orig_corr, sm_sorted_ma_zhang_corr)[0][1]\n",
    "non_sm_corr = np.corrcoef(non_sm_orig_corr, non_sm_sorted_ma_zhang_corr)[0][1]\n",
    "sm_corr, non_sm_corr"
   ]
  },
  {
   "cell_type": "code",
   "execution_count": 77,
   "metadata": {},
   "outputs": [
    {
     "name": "stdout",
     "output_type": "stream",
     "text": [
      "Overall Correlation =  -0.038481308348205914\n",
      "Sensory/Motor Correlation =  0.9912906060518246\n",
      "Association Correlation =  0.39026678561338574\n"
     ]
    },
    {
     "data": {
      "image/png": "[encoded data removed]",
      "text/plain": [
       "<Figure size 432x288 with 1 Axes>"
      ]
     },
     "metadata": {
      "needs_background": "light"
     },
     "output_type": "display_data"
    }
   ],
   "source": [
    "# adds horizonal legend\n",
    "fig, ax = plt.subplots()\n",
    "ax.set_xlabel('MFMC (Current Study)', fontsize=15)\n",
    "ax.set_ylabel('MFMC (Ma and Zhang)', fontsize=15)\n",
    "title = 'All Corr. = ' + str(round(corr, 3)) + '\\nSM Corr. = ' + str(round(sm_corr, 3)) + '\\nNon-SM Corr. = ' + str(round(non_sm_corr, 3))\n",
    "print('Overall Correlation = ', corr)\n",
    "print('Sensory/Motor Correlation = ', sm_corr)\n",
    "print('Association Correlation = ', non_sm_corr)\n",
    "# ax.set_title(title, size=15)\n",
    "ax.axis('square')\n",
    "ax.set_xlim(0.15, 0.95)\n",
    "ax.set_ylim(0.15, 0.95)\n",
    "plt.annotate(\"Sensory/Motor\", xy=(-0.32,-0.25),xycoords='axes fraction', fontsize=15)\n",
    "plt.annotate(\"Association\", xy=(0.5,-0.25),xycoords='axes fraction', fontsize=15)\n",
    "plt.annotate(\"             \", xy=(0.2,0.3),xycoords='axes fraction', fontsize=30, rotation=25, zorder=0,\n",
    "              bbox=dict(facecolor='grey', linestyle='--', alpha=0.4))\n",
    "plt.annotate(\"                \", xy=(-0.43,-0.48),xycoords='axes fraction', fontsize=80, zorder=0,\n",
    "              bbox=dict(facecolor='white', alpha=0.2))\n",
    "for i in range(len(sm_orig_corr)):\n",
    "    ax.scatter(sm_orig_corr[i], sm_sorted_ma_zhang_corr[i], color=sm_colors[i], label=sm_plot_labels[i], s=60, edgecolors='black')\n",
    "for i in range(len(non_sm_orig_corr)):\n",
    "    ax.scatter(non_sm_orig_corr[i], non_sm_sorted_ma_zhang_corr[i], color=non_sm_colors[i], label=non_sm_plot_labels[i], s=60, edgecolors='black')\n",
    "leg = ax.legend(bbox_to_anchor=(.5, -.6), loc='lower center', ncol=3, markerscale=1.4, frameon=False)\n",
    "ax.plot([0,.1,.2,.3,.4,.5,.6,.7,.8,.9,1.0,1.1,1.2], [0,.1,.2,.3,.4,.5,.6,.7,.8,.9,1.0,1.1,1.2], '--')\n",
    "plt.savefig('/Users/neurogazer/Pipeline/test/Regional_Inhomogeneity_Analysis/Ma_Paper_Replication/Final_Figure_Files/MFMC_Both_Demeaned_Gordon_RSNs_Ma_Method_MZ_Comparison.pdf', bbox_inches='tight')"
   ]
  },
  {
   "cell_type": "markdown",
   "metadata": {},
   "source": [
    "T-test on Network Differences"
   ]
  },
  {
   "cell_type": "code",
   "execution_count": 78,
   "metadata": {},
   "outputs": [
    {
     "name": "stdout",
     "output_type": "stream",
     "text": [
      "12\n",
      "[0.29, 0.59, 0.57, 0.39, 0.26, 0.32, 0.22, 0.31, 0.2, 0.19, 0.51, 0.45]\n",
      "12\n",
      "[0.9250540883423908, 0.6997718232735348, 0.6909626470060334, 0.6811663807328792, 0.6653596326541945, 0.6402180449713715, 0.6330149727353165, 0.6079646656713543, 0.5708243039507852, 0.5394080990852288, 0.5100511164152212, 0.39615518613384254]\n",
      "0.3583333333333334 0.13588189316052704\n",
      "0.6299959134143461 0.12277642630034025\n"
     ]
    },
    {
     "data": {
      "text/plain": [
       "Ttest_relResult(statistic=4.828362216007021, pvalue=0.000528750060812062)"
      ]
     },
     "execution_count": 78,
     "metadata": {},
     "output_type": "execute_result"
    }
   ],
   "source": [
    "#All Networks\n",
    "print(len(sorted_ma_zhang_corr))\n",
    "print(sorted_ma_zhang_corr)\n",
    "print(len(orig_corr))\n",
    "print(orig_corr)\n",
    "\n",
    "#Mean and Std dev\n",
    "print(np.mean(sorted_ma_zhang_corr), np.std(sorted_ma_zhang_corr))\n",
    "print(np.mean(orig_corr), np.std(orig_corr))\n",
    "\n",
    "stats.ttest_rel(orig_corr, sorted_ma_zhang_corr)"
   ]
  },
  {
   "cell_type": "code",
   "execution_count": 79,
   "metadata": {},
   "outputs": [
    {
     "name": "stdout",
     "output_type": "stream",
     "text": [
      "8\n",
      "[0.29, 0.39, 0.26, 0.32, 0.22, 0.31, 0.2, 0.19]\n",
      "8\n",
      "[0.9250540883423908, 0.6811663807328792, 0.6653596326541945, 0.6402180449713715, 0.6330149727353165, 0.6079646656713543, 0.5708243039507852, 0.5394080990852288]\n",
      "0.2725 0.06398241946034863\n",
      "0.6578762735179401 0.11012279178330459\n"
     ]
    },
    {
     "data": {
      "text/plain": [
       "Ttest_relResult(statistic=9.8471894210442, pvalue=2.3677964090902506e-05)"
      ]
     },
     "execution_count": 79,
     "metadata": {},
     "output_type": "execute_result"
    }
   ],
   "source": [
    "#Association Networks\n",
    "print(len(non_sm_sorted_ma_zhang_corr))\n",
    "print(non_sm_sorted_ma_zhang_corr)\n",
    "print(len(non_sm_orig_corr))\n",
    "print(non_sm_orig_corr)\n",
    "\n",
    "#Mean and Std dev\n",
    "print(np.mean(non_sm_sorted_ma_zhang_corr), np.std(non_sm_sorted_ma_zhang_corr))\n",
    "print(np.mean(non_sm_orig_corr), np.std(non_sm_orig_corr))\n",
    "\n",
    "stats.ttest_rel(non_sm_orig_corr, non_sm_sorted_ma_zhang_corr)"
   ]
  },
  {
   "cell_type": "code",
   "execution_count": 80,
   "metadata": {},
   "outputs": [
    {
     "name": "stdout",
     "output_type": "stream",
     "text": [
      "4\n",
      "[0.59, 0.57, 0.51, 0.45]\n",
      "4\n",
      "[0.6997718232735348, 0.6909626470060334, 0.5100511164152212, 0.39615518613384254]\n",
      "0.53 0.054772255750516585\n",
      "0.574235193207158 0.12768792874784235\n"
     ]
    },
    {
     "data": {
      "text/plain": [
       "Ttest_relResult(statistic=1.0389347339458677, pvalue=0.37521415732916924)"
      ]
     },
     "execution_count": 80,
     "metadata": {},
     "output_type": "execute_result"
    }
   ],
   "source": [
    "#Sensory-Motor Networks\n",
    "print(len(sm_sorted_ma_zhang_corr))\n",
    "print(sm_sorted_ma_zhang_corr)\n",
    "print(len(sm_orig_corr))\n",
    "print(sm_orig_corr)\n",
    "\n",
    "#Mean and Std dev\n",
    "print(np.mean(sm_sorted_ma_zhang_corr), np.std(sm_sorted_ma_zhang_corr))\n",
    "print(np.mean(sm_orig_corr), np.std(sm_orig_corr))\n",
    "\n",
    "stats.ttest_rel(sm_orig_corr, sm_sorted_ma_zhang_corr)"
   ]
  },
  {
   "cell_type": "markdown",
   "metadata": {},
   "source": [
    "# These next few sections are code to create a .dscalar file for the netwrok parcellated data for viewing. "
   ]
  },
  {
   "cell_type": "code",
   "execution_count": null,
   "metadata": {},
   "outputs": [],
   "source": [
    "# print(len(voxel_data))\n",
    "# out_voxel_data = np.array(voxel_data).reshape(1, 59412)\n",
    "# np.shape(out_voxel_data)"
   ]
  },
  {
   "cell_type": "code",
   "execution_count": 10,
   "metadata": {},
   "outputs": [],
   "source": [
    "# # Voxel-level template \n",
    "# voxel_template = nib.load('/Users/neurogazer/Pipeline/test/Regional_Inhomogeneity_Analysis/Ma_Paper_Replication/test_data/R_AF1005_KRAA_000508_01.SmoothedMyelinMap.32k_fs_LR.dscalar.nii')\n",
    "# print(voxel_template)\n",
    "# print(voxel_template.header)\n",
    "# print(voxel_template.shape)\n",
    "\n",
    "# out = nib.Cifti2Image(out_voxel_data, header=voxel_template.header)\n",
    "# print(out.shape)\n",
    "# nib.save(out, '/Users/neurogazer/Pipeline/test/Regional_Inhomogeneity_Analysis/Ma_Paper_Replication/FC_Orig_Myelin_Corr_Ma_Zhang_Gordon.32k_fs_LR.dscalar.nii')"
   ]
  },
  {
   "cell_type": "code",
   "execution_count": 11,
   "metadata": {},
   "outputs": [],
   "source": [
    "# path = '/Users/neurogazer/Pipeline/test/Regional_Inhomogeneity_Analysis/Ma_Paper_Replication/'\n",
    "# surf_left = path + 'test_data/R_AF1005_KRAA_000508_01.L.very_inflated.32k_fs_LR.surf.gii'\n",
    "# surf_right = path + 'test_data/R_AF1005_KRAA_000508_01.R.very_inflated.32k_fs_LR.surf.gii'\n",
    "# surf_parc = path + 'test_data/Paper_Surface_Files/Gordon333_FreesurferSubcortical.32k_fs_LR.dlabel.nii'\n",
    "# # surf_voxel_data = path + 'Myelin_FC_Group_Correlation_Maps/FC_Myelin_Corr.32k_fs_LR.dscalar.nii'\n",
    "# surf_voxel_data = '/Users/neurogazer/Downloads/FC_Myelin_Org_Corr.32k_fs_LR.dscalar.nii'\n",
    "# surf_roi_data = path + 'FC_Orig_Myelin_Corr_Ma_Zhang_Gordon.32k_fs_LR.dscalar.nii'"
   ]
  },
  {
   "cell_type": "code",
   "execution_count": 12,
   "metadata": {},
   "outputs": [],
   "source": [
    "# cmd=\"wb_view {} {} {} {} {}\".format(surf_left, surf_right, surf_parc, surf_voxel_data, surf_roi_data)\n",
    "# cmd=cmd.split()\n",
    "# sp.call(cmd)"
   ]
  },
  {
   "cell_type": "markdown",
   "metadata": {},
   "source": [
    "# The following makes a scatter plots comparing network meta-correaltion between young and old subgroups"
   ]
  },
  {
   "cell_type": "code",
   "execution_count": 52,
   "metadata": {
    "scrolled": true
   },
   "outputs": [
    {
     "data": {
      "text/plain": [
       "[[['SomoMoto',\n",
       "   'DorsalAttn',\n",
       "   'LatSomoMoto',\n",
       "   'Visual',\n",
       "   'FrontoParietal',\n",
       "   'ParietalMem',\n",
       "   'VentralAttn',\n",
       "   'Default',\n",
       "   'CinguloOperc',\n",
       "   'Auditory',\n",
       "   'ParietoOccip',\n",
       "   'Salience'],\n",
       "  [0.7694195897428454,\n",
       "   0.6154518382897299,\n",
       "   0.5802747569591955,\n",
       "   0.5569736779951738,\n",
       "   0.503657032410751,\n",
       "   0.47493090704241825,\n",
       "   0.4278251808275496,\n",
       "   0.42029900203584614,\n",
       "   0.41354670422196765,\n",
       "   0.4081059534342582,\n",
       "   0.3529637802536066,\n",
       "   0.34593462036252076]],\n",
       " [['SomoMoto',\n",
       "   'ParietalMem',\n",
       "   'DorsalAttn',\n",
       "   'Visual',\n",
       "   'LatSomoMoto',\n",
       "   'Default',\n",
       "   'VentralAttn',\n",
       "   'FrontoParietal',\n",
       "   'CinguloOperc',\n",
       "   'Salience',\n",
       "   'Auditory',\n",
       "   'ParietoOccip'],\n",
       "  [0.6528403928787807,\n",
       "   0.6124033826360289,\n",
       "   0.5906006464564479,\n",
       "   0.5717882657120765,\n",
       "   0.5353142106886172,\n",
       "   0.5033912398315376,\n",
       "   0.49943857565511474,\n",
       "   0.49849137389355475,\n",
       "   0.45091833690710226,\n",
       "   0.44782566898275794,\n",
       "   0.4227823813502225,\n",
       "   0.4072746804095988]]]"
      ]
     },
     "execution_count": 52,
     "metadata": {},
     "output_type": "execute_result"
    }
   ],
   "source": [
    "plot_list"
   ]
  },
  {
   "cell_type": "code",
   "execution_count": 53,
   "metadata": {},
   "outputs": [
    {
     "name": "stdout",
     "output_type": "stream",
     "text": [
      "[[['Salience', 'SomoMoto', 'ParietoOccip', 'Visual', 'FrontoParietal', 'DorsalAttn', 'VentralAttn', 'ParietalMem', 'CinguloOperc', 'Default', 'LatSomoMoto', 'Auditory'], [0.34593462036252076, 0.7694195897428454, 0.3529637802536066, 0.5569736779951738, 0.503657032410751, 0.6154518382897299, 0.4278251808275496, 0.47493090704241825, 0.41354670422196765, 0.42029900203584614, 0.5802747569591955, 0.4081059534342582]], [['Salience', 'SomoMoto', 'ParietoOccip', 'Visual', 'FrontoParietal', 'DorsalAttn', 'VentralAttn', 'ParietalMem', 'CinguloOperc', 'Default', 'LatSomoMoto', 'Auditory'], [0.44782566898275794, 0.6528403928787807, 0.4072746804095988, 0.5717882657120765, 0.49849137389355475, 0.5906006464564479, 0.49943857565511474, 0.6124033826360289, 0.45091833690710226, 0.5033912398315376, 0.5353142106886172, 0.4227823813502225]]]\n"
     ]
    }
   ],
   "source": [
    "#This block of code makes the order of the networks be the same in the 2 plots.\n",
    "order = ['Salience', 'SomoMoto',  'ParietoOccip', 'Visual', 'FrontoParietal', 'DorsalAttn', 'VentralAttn', \n",
    "         'ParietalMem', 'CinguloOperc', 'Default', 'LatSomoMoto', 'Auditory']\n",
    "g1_plot_order = plot_list[0][0]\n",
    "g1_plot_values = plot_list[0][1]\n",
    "g2_plot_order = plot_list[1][0]\n",
    "g2_plot_values = plot_list[1][1]\n",
    "\n",
    "new_g1_plot_order, new_g1_plot_values, new_g2_plot_order, new_g2_plot_values  = [], [], [], []\n",
    "for net in order:\n",
    "    for i in range(len(order)):\n",
    "        if g1_plot_order[i] == net:\n",
    "            new_g1_plot_order.append(net)\n",
    "            new_g1_plot_values.append(g1_plot_values[i])\n",
    "        if g2_plot_order[i] == net:\n",
    "            new_g2_plot_order.append(net)\n",
    "            new_g2_plot_values.append(g2_plot_values[i])\n",
    "            \n",
    "new_plot_list = [[new_g1_plot_order, new_g1_plot_values], [new_g2_plot_order, new_g2_plot_values]]\n",
    "print(new_plot_list)"
   ]
  },
  {
   "cell_type": "code",
   "execution_count": 54,
   "metadata": {},
   "outputs": [],
   "source": [
    "colors = []\n",
    "\n",
    "for entry in new_g1_plot_order:\n",
    "    if entry == 'Salience':\n",
    "        color = (160,82,45)\n",
    "    if entry == 'VentralAttn':\n",
    "        color = (255,165,0)\n",
    "    if entry == 'Default':\n",
    "        color = (0,0,0)\n",
    "    if entry == 'FrontoParietal':\n",
    "        color = (128,128,128)\n",
    "    if entry == 'SomoMoto':\n",
    "        color = (0,255,0)\n",
    "    if entry == 'Visual':\n",
    "        color = (255,255,0)\n",
    "    if entry == 'DorsalAttn':\n",
    "        color = (255,0,0)\n",
    "    if entry == 'ParietoOccip':\n",
    "        color = (0,255,255)\n",
    "    if entry == 'CinguloOperc':\n",
    "        color = (0,0,255)\n",
    "    if entry == 'ParietalMem':\n",
    "        color = (0,191,255)\n",
    "    if entry == 'LatSomoMoto':\n",
    "        color = (0,128,128)\n",
    "    if entry == 'Auditory':\n",
    "        color = (255,0,255)\n",
    "    colors.append(color)\n",
    "\n",
    "colors = list(np.array(colors)/255.0)"
   ]
  },
  {
   "cell_type": "code",
   "execution_count": 55,
   "metadata": {},
   "outputs": [
    {
     "name": "stdout",
     "output_type": "stream",
     "text": [
      "[0.34593462036252076, 0.7694195897428454, 0.3529637802536066, 0.5569736779951738, 0.503657032410751, 0.6154518382897299, 0.4278251808275496, 0.47493090704241825, 0.41354670422196765, 0.42029900203584614, 0.5802747569591955, 0.4081059534342582]\n",
      "[0.44782566898275794, 0.6528403928787807, 0.4072746804095988, 0.5717882657120765, 0.49849137389355475, 0.5906006464564479, 0.49943857565511474, 0.6124033826360289, 0.45091833690710226, 0.5033912398315376, 0.5353142106886172, 0.4227823813502225]\n"
     ]
    }
   ],
   "source": [
    "a1 = new_plot_list[0][1]  \n",
    "b1 = new_plot_list[1][1]\n",
    "\n",
    "print(a1)\n",
    "print(b1)"
   ]
  },
  {
   "cell_type": "code",
   "execution_count": 45,
   "metadata": {},
   "outputs": [
    {
     "name": "stdout",
     "output_type": "stream",
     "text": [
      "Salience 0.012389538562857627\n",
      "SomoMoto 0.10815090558998441\n",
      "ParietoOccip 0.06416152324952273\n",
      "Visual 0.03244639559556739\n",
      "FrontoParietal 0.0978294688200666\n",
      "DorsalAttn 0.07009512688355579\n",
      "VentralAttn 0.056013946366061385\n",
      "ParietalMem 0.062050790800811495\n",
      "CinguloOperc 0.05288441001920263\n",
      "Default 0.04230996305799939\n",
      "LatSomoMoto 0.04520927356843896\n",
      "Auditory 0.09244612990604245\n",
      "0.10815090558998441\n"
     ]
    }
   ],
   "source": [
    "# MFMC Diffs\n",
    "diff_list = []\n",
    "for i in range(len(a1)):\n",
    "    diff = np.abs(a1[i] - b1[i])\n",
    "    print(order[i], diff)\n",
    "    diff_list.append(diff)\n",
    "print(np.max(diff_list))"
   ]
  },
  {
   "cell_type": "code",
   "execution_count": 36,
   "metadata": {},
   "outputs": [
    {
     "name": "stdout",
     "output_type": "stream",
     "text": [
      "Salience 0.031576833924863046\n",
      "SomoMoto 0.18440605053037634\n",
      "ParietoOccip 0.02474232761091555\n",
      "Visual 0.0363343945255703\n",
      "FrontoParietal 0.031070986725673322\n",
      "DorsalAttn 0.03998909347478624\n",
      "VentralAttn 0.09373488524345319\n",
      "ParietalMem 0.0853281264556165\n",
      "CinguloOperc 0.05656046338209575\n",
      "Default 0.03438255329377887\n",
      "LatSomoMoto 0.25419625908447363\n",
      "Auditory 0.0629742364198046\n",
      "0.25419625908447363\n"
     ]
    }
   ],
   "source": [
    "# TFMC Diffs\n",
    "diff_list = []\n",
    "for i in range(len(a1)):\n",
    "    diff = np.abs(a1[i] - b1[i])\n",
    "    print(order[i], diff)\n",
    "    diff_list.append(diff)\n",
    "print(np.max(diff_list))"
   ]
  },
  {
   "cell_type": "code",
   "execution_count": 56,
   "metadata": {},
   "outputs": [
    {
     "name": "stdout",
     "output_type": "stream",
     "text": [
      "Salience 0.10189104862023718\n",
      "SomoMoto 0.1165791968640647\n",
      "ParietoOccip 0.054310900155992214\n",
      "Visual 0.014814587716902694\n",
      "FrontoParietal 0.005165658517196248\n",
      "DorsalAttn 0.024851191833281994\n",
      "VentralAttn 0.07161339482756512\n",
      "ParietalMem 0.13747247559361064\n",
      "CinguloOperc 0.037371632685134604\n",
      "Default 0.08309223779569141\n",
      "LatSomoMoto 0.04496054627057833\n",
      "Auditory 0.014676427915964296\n",
      "0.13747247559361064\n"
     ]
    }
   ],
   "source": [
    "# MTMC Diffs\n",
    "diff_list = []\n",
    "for i in range(len(a1)):\n",
    "    diff = np.abs(a1[i] - b1[i])\n",
    "    print(order[i], diff)\n",
    "    diff_list.append(diff)\n",
    "print(np.max(diff_list))"
   ]
  },
  {
   "cell_type": "code",
   "execution_count": 57,
   "metadata": {},
   "outputs": [],
   "source": [
    "order1 = ['Salience', 'Somato-motor', 'Parieto-occipital', 'Visual', 'Fronto-parietal', 'Dorsal Att.', 'Ventral Att.', \n",
    "         'Parietal Memory', 'Cingulo-opercular', 'Default', 'Lat. Somato-motor', 'Auditory']"
   ]
  },
  {
   "cell_type": "code",
   "execution_count": 61,
   "metadata": {},
   "outputs": [
    {
     "data": {
      "image/png": "[encoded data removed]",
      "text/plain": [
       "<Figure size 432x288 with 1 Axes>"
      ]
     },
     "metadata": {
      "needs_background": "light"
     },
     "output_type": "display_data"
    }
   ],
   "source": [
    "# adds horizonal legend\n",
    "corr = np.corrcoef(a1, b1)[0][1]\n",
    "fig, ax = plt.subplots()\n",
    "for i in range(len(a1)):\n",
    "    ax.scatter(a1[i], b1[i], color=colors[i], label=order1[i], s=60, edgecolors='black')\n",
    "plt.xlabel('MTMC of Young Group', size=15)\n",
    "plt.ylabel('MTMC of Old Group', size=15)\n",
    "title = 'Correlation = ' + str(round(corr, 3))\n",
    "plt.title(title, size=15)\n",
    "plt.axis('square')\n",
    "# plt.xlim(0.33, 0.94)\n",
    "# plt.ylim(0.33, 0.94)\n",
    "plt.xlim(0.33, 0.8)\n",
    "plt.ylim(0.33, 0.8)\n",
    "# plt.xlim(0.22, 0.72)\n",
    "# plt.ylim(0.22, 0.72)\n",
    "plt.legend(bbox_to_anchor=(.5, -.5), loc='lower center', ncol=4, markerscale=1.4)\n",
    "\n",
    "plt.plot([0,.1,.2,.3,.4,.5,.6,.7,.8,.9,1.0,1.1,1.2], [0,.1,.2,.3,.4,.5,.6,.7,.8,.9,1.0,1.1,1.2], '--')\n",
    "\n",
    "# for i, txt in enumerate(data_point_labels):\n",
    "#     ax.annotate(txt, (a1[i], b1[i]), size=12)\n",
    "\n",
    "plt.savefig('/Users/neurogazer/Downloads/MTMC_RSN_Young_Old_Gordon_ConfReg.pdf', bbox_inches='tight')"
   ]
  },
  {
   "cell_type": "markdown",
   "metadata": {},
   "source": [
    "# Correlate mean myelin/thickness with age-coefs"
   ]
  },
  {
   "cell_type": "code",
   "execution_count": 81,
   "metadata": {},
   "outputs": [
    {
     "name": "stdout",
     "output_type": "stream",
     "text": [
      "59412\n",
      "59412\n"
     ]
    },
    {
     "data": {
      "text/plain": [
       "(0.706688234029194, 0.0)"
      ]
     },
     "execution_count": 81,
     "metadata": {},
     "output_type": "execute_result"
    }
   ],
   "source": [
    "myelin_mean_path = '/Users/neurogazer/Pipeline/test/Regional_Inhomogeneity_Analysis/Ma_Paper_Replication/Final_Figure_Files/Standard_Brain_Maps/Mean_Myelin_Orig.32k_fs_LR.dscalar.nii'\n",
    "myelin_mean = np.array(nib.load(myelin_mean_path).get_fdata())[0]\n",
    "print(len(myelin_mean))\n",
    "\n",
    "myelin_coef_path = '/Users/neurogazer/Pipeline/test/Regional_Inhomogeneity_Analysis/Ma_Paper_Replication/Final_Figure_Files/Age_Regression/Myelin_Age_Coef_Orig.32k_fs_LR.dscalar.nii'\n",
    "myelin_coef = np.array(nib.load(myelin_coef_path).get_fdata())[0]\n",
    "print(len(myelin_coef))\n",
    "\n",
    "stats.pearsonr(myelin_mean, myelin_coef)"
   ]
  },
  {
   "cell_type": "code",
   "execution_count": 82,
   "metadata": {},
   "outputs": [
    {
     "name": "stdout",
     "output_type": "stream",
     "text": [
      "59412\n",
      "59412\n"
     ]
    },
    {
     "data": {
      "text/plain": [
       "(-0.016436050879987667, 6.165012051043733e-05)"
      ]
     },
     "execution_count": 82,
     "metadata": {},
     "output_type": "execute_result"
    }
   ],
   "source": [
    "thickness_mean_path = '/Users/neurogazer/Pipeline/test/Regional_Inhomogeneity_Analysis/Ma_Paper_Replication/Final_Figure_Files/Standard_Brain_Maps/Mean_Thickness_Orig.32k_fs_LR.dscalar.nii'\n",
    "thickness_mean = np.array(nib.load(thickness_mean_path).get_fdata())[0]\n",
    "print(len(thickness_mean))\n",
    "\n",
    "thickness_coef_path = '/Users/neurogazer/Pipeline/test/Regional_Inhomogeneity_Analysis/Ma_Paper_Replication/Final_Figure_Files/Age_Regression/Thickness_Age_Coef_Orig.32k_fs_LR.dscalar.nii'\n",
    "thickness_coef = np.array(nib.load(thickness_coef_path).get_fdata())[0]\n",
    "print(len(thickness_coef))\n",
    "\n",
    "stats.pearsonr(thickness_mean, thickness_coef)"
   ]
  },
  {
   "cell_type": "code",
   "execution_count": null,
   "metadata": {},
   "outputs": [],
   "source": []
  }
 ],
 "metadata": {
  "kernelspec": {
   "display_name": "Python 3",
   "language": "python",
   "name": "python3"
  },
  "language_info": {
   "codemirror_mode": {
    "name": "ipython",
    "version": 3
   },
   "file_extension": ".py",
   "mimetype": "text/x-python",
   "name": "python",
   "nbconvert_exporter": "python",
   "pygments_lexer": "ipython3",
   "version": "3.7.4"
  }
 },
 "nbformat": 4,
 "nbformat_minor": 2
}
